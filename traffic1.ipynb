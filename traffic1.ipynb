{
  "nbformat": 4,
  "nbformat_minor": 0,
  "metadata": {
    "colab": {
      "name": "traffic1.ipynb",
      "version": "0.3.2",
      "provenance": []
    },
    "kernelspec": {
      "name": "python3",
      "display_name": "Python 3"
    }
  },
  "cells": [
    {
      "cell_type": "code",
      "metadata": {
        "id": "c4UPs4c1uWU7",
        "colab_type": "code",
        "colab": {}
      },
      "source": [
        "import numpy as np\n",
        "import pandas as pd"
      ],
      "execution_count": 0,
      "outputs": []
    },
    {
      "cell_type": "code",
      "metadata": {
        "id": "s2hfyRZxviqF",
        "colab_type": "code",
        "colab": {}
      },
      "source": [
        "dftr=pd.read_csv('Train.csv')\n",
        "dfte=pd.read_csv('Test.csv')\n",
        "dfss=pd.read_csv('sample_submission.csv')"
      ],
      "execution_count": 0,
      "outputs": []
    },
    {
      "cell_type": "code",
      "metadata": {
        "id": "VACeAquDvwmg",
        "colab_type": "code",
        "colab": {
          "base_uri": "https://localhost:8080/",
          "height": 549
        },
        "outputId": "16d156c4-11af-42d4-bf61-88e954dd92dc"
      },
      "source": [
        "dftr.head(10)"
      ],
      "execution_count": 20,
      "outputs": [
        {
          "output_type": "execute_result",
          "data": {
            "text/html": [
              "<div>\n",
              "<style scoped>\n",
              "    .dataframe tbody tr th:only-of-type {\n",
              "        vertical-align: middle;\n",
              "    }\n",
              "\n",
              "    .dataframe tbody tr th {\n",
              "        vertical-align: top;\n",
              "    }\n",
              "\n",
              "    .dataframe thead th {\n",
              "        text-align: right;\n",
              "    }\n",
              "</style>\n",
              "<table border=\"1\" class=\"dataframe\">\n",
              "  <thead>\n",
              "    <tr style=\"text-align: right;\">\n",
              "      <th></th>\n",
              "      <th>date_time</th>\n",
              "      <th>is_holiday</th>\n",
              "      <th>air_pollution_index</th>\n",
              "      <th>humidity</th>\n",
              "      <th>wind_speed</th>\n",
              "      <th>wind_direction</th>\n",
              "      <th>visibility_in_miles</th>\n",
              "      <th>dew_point</th>\n",
              "      <th>temperature</th>\n",
              "      <th>rain_p_h</th>\n",
              "      <th>snow_p_h</th>\n",
              "      <th>clouds_all</th>\n",
              "      <th>weather_type</th>\n",
              "      <th>weather_description</th>\n",
              "      <th>traffic_volume</th>\n",
              "    </tr>\n",
              "  </thead>\n",
              "  <tbody>\n",
              "    <tr>\n",
              "      <th>0</th>\n",
              "      <td>2012-10-02 09:00:00</td>\n",
              "      <td>None</td>\n",
              "      <td>121</td>\n",
              "      <td>89</td>\n",
              "      <td>2</td>\n",
              "      <td>329</td>\n",
              "      <td>1</td>\n",
              "      <td>1</td>\n",
              "      <td>288.28</td>\n",
              "      <td>0.0</td>\n",
              "      <td>0.0</td>\n",
              "      <td>40</td>\n",
              "      <td>Clouds</td>\n",
              "      <td>scattered clouds</td>\n",
              "      <td>5545</td>\n",
              "    </tr>\n",
              "    <tr>\n",
              "      <th>1</th>\n",
              "      <td>2012-10-02 10:00:00</td>\n",
              "      <td>None</td>\n",
              "      <td>178</td>\n",
              "      <td>67</td>\n",
              "      <td>3</td>\n",
              "      <td>330</td>\n",
              "      <td>1</td>\n",
              "      <td>1</td>\n",
              "      <td>289.36</td>\n",
              "      <td>0.0</td>\n",
              "      <td>0.0</td>\n",
              "      <td>75</td>\n",
              "      <td>Clouds</td>\n",
              "      <td>broken clouds</td>\n",
              "      <td>4516</td>\n",
              "    </tr>\n",
              "    <tr>\n",
              "      <th>2</th>\n",
              "      <td>2012-10-02 11:00:00</td>\n",
              "      <td>None</td>\n",
              "      <td>113</td>\n",
              "      <td>66</td>\n",
              "      <td>3</td>\n",
              "      <td>329</td>\n",
              "      <td>2</td>\n",
              "      <td>2</td>\n",
              "      <td>289.58</td>\n",
              "      <td>0.0</td>\n",
              "      <td>0.0</td>\n",
              "      <td>90</td>\n",
              "      <td>Clouds</td>\n",
              "      <td>overcast clouds</td>\n",
              "      <td>4767</td>\n",
              "    </tr>\n",
              "    <tr>\n",
              "      <th>3</th>\n",
              "      <td>2012-10-02 12:00:00</td>\n",
              "      <td>None</td>\n",
              "      <td>20</td>\n",
              "      <td>66</td>\n",
              "      <td>3</td>\n",
              "      <td>329</td>\n",
              "      <td>5</td>\n",
              "      <td>5</td>\n",
              "      <td>290.13</td>\n",
              "      <td>0.0</td>\n",
              "      <td>0.0</td>\n",
              "      <td>90</td>\n",
              "      <td>Clouds</td>\n",
              "      <td>overcast clouds</td>\n",
              "      <td>5026</td>\n",
              "    </tr>\n",
              "    <tr>\n",
              "      <th>4</th>\n",
              "      <td>2012-10-02 13:00:00</td>\n",
              "      <td>None</td>\n",
              "      <td>281</td>\n",
              "      <td>65</td>\n",
              "      <td>3</td>\n",
              "      <td>329</td>\n",
              "      <td>7</td>\n",
              "      <td>7</td>\n",
              "      <td>291.14</td>\n",
              "      <td>0.0</td>\n",
              "      <td>0.0</td>\n",
              "      <td>75</td>\n",
              "      <td>Clouds</td>\n",
              "      <td>broken clouds</td>\n",
              "      <td>4918</td>\n",
              "    </tr>\n",
              "    <tr>\n",
              "      <th>5</th>\n",
              "      <td>2012-10-02 14:00:00</td>\n",
              "      <td>None</td>\n",
              "      <td>23</td>\n",
              "      <td>65</td>\n",
              "      <td>3</td>\n",
              "      <td>328</td>\n",
              "      <td>6</td>\n",
              "      <td>6</td>\n",
              "      <td>291.72</td>\n",
              "      <td>0.0</td>\n",
              "      <td>0.0</td>\n",
              "      <td>1</td>\n",
              "      <td>Clear</td>\n",
              "      <td>sky is clear</td>\n",
              "      <td>5181</td>\n",
              "    </tr>\n",
              "    <tr>\n",
              "      <th>6</th>\n",
              "      <td>2012-10-02 15:00:00</td>\n",
              "      <td>None</td>\n",
              "      <td>184</td>\n",
              "      <td>64</td>\n",
              "      <td>3</td>\n",
              "      <td>328</td>\n",
              "      <td>7</td>\n",
              "      <td>7</td>\n",
              "      <td>293.17</td>\n",
              "      <td>0.0</td>\n",
              "      <td>0.0</td>\n",
              "      <td>1</td>\n",
              "      <td>Clear</td>\n",
              "      <td>sky is clear</td>\n",
              "      <td>5584</td>\n",
              "    </tr>\n",
              "    <tr>\n",
              "      <th>7</th>\n",
              "      <td>2012-10-02 16:00:00</td>\n",
              "      <td>None</td>\n",
              "      <td>167</td>\n",
              "      <td>64</td>\n",
              "      <td>3</td>\n",
              "      <td>327</td>\n",
              "      <td>7</td>\n",
              "      <td>7</td>\n",
              "      <td>293.86</td>\n",
              "      <td>0.0</td>\n",
              "      <td>0.0</td>\n",
              "      <td>1</td>\n",
              "      <td>Clear</td>\n",
              "      <td>sky is clear</td>\n",
              "      <td>6015</td>\n",
              "    </tr>\n",
              "    <tr>\n",
              "      <th>8</th>\n",
              "      <td>2012-10-02 17:00:00</td>\n",
              "      <td>None</td>\n",
              "      <td>119</td>\n",
              "      <td>63</td>\n",
              "      <td>3</td>\n",
              "      <td>327</td>\n",
              "      <td>6</td>\n",
              "      <td>6</td>\n",
              "      <td>294.14</td>\n",
              "      <td>0.0</td>\n",
              "      <td>0.0</td>\n",
              "      <td>20</td>\n",
              "      <td>Clouds</td>\n",
              "      <td>few clouds</td>\n",
              "      <td>5791</td>\n",
              "    </tr>\n",
              "    <tr>\n",
              "      <th>9</th>\n",
              "      <td>2012-10-02 18:00:00</td>\n",
              "      <td>None</td>\n",
              "      <td>161</td>\n",
              "      <td>63</td>\n",
              "      <td>3</td>\n",
              "      <td>326</td>\n",
              "      <td>3</td>\n",
              "      <td>3</td>\n",
              "      <td>293.10</td>\n",
              "      <td>0.0</td>\n",
              "      <td>0.0</td>\n",
              "      <td>20</td>\n",
              "      <td>Clouds</td>\n",
              "      <td>few clouds</td>\n",
              "      <td>4770</td>\n",
              "    </tr>\n",
              "  </tbody>\n",
              "</table>\n",
              "</div>"
            ],
            "text/plain": [
              "             date_time is_holiday  ...  weather_description  traffic_volume\n",
              "0  2012-10-02 09:00:00       None  ...     scattered clouds            5545\n",
              "1  2012-10-02 10:00:00       None  ...        broken clouds            4516\n",
              "2  2012-10-02 11:00:00       None  ...      overcast clouds            4767\n",
              "3  2012-10-02 12:00:00       None  ...      overcast clouds            5026\n",
              "4  2012-10-02 13:00:00       None  ...        broken clouds            4918\n",
              "5  2012-10-02 14:00:00       None  ...         sky is clear            5181\n",
              "6  2012-10-02 15:00:00       None  ...         sky is clear            5584\n",
              "7  2012-10-02 16:00:00       None  ...         sky is clear            6015\n",
              "8  2012-10-02 17:00:00       None  ...           few clouds            5791\n",
              "9  2012-10-02 18:00:00       None  ...           few clouds            4770\n",
              "\n",
              "[10 rows x 15 columns]"
            ]
          },
          "metadata": {
            "tags": []
          },
          "execution_count": 20
        }
      ]
    },
    {
      "cell_type": "code",
      "metadata": {
        "id": "Jovj3zAQwC2u",
        "colab_type": "code",
        "colab": {
          "base_uri": "https://localhost:8080/",
          "height": 85
        },
        "outputId": "404a72de-a834-40d3-dc4e-bf440e5b557c"
      },
      "source": [
        "pd.Categorical(dftr.is_holiday)"
      ],
      "execution_count": 19,
      "outputs": [
        {
          "output_type": "execute_result",
          "data": {
            "text/plain": [
              "[None, None, None, None, None, ..., None, None, None, None, None]\n",
              "Length: 33750\n",
              "Categories (12, object): [Christmas Day, Columbus Day, Independence Day, Labor Day, ..., State Fair,\n",
              "                          Thanksgiving Day, Veterans Day, Washingtons Birthday]"
            ]
          },
          "metadata": {
            "tags": []
          },
          "execution_count": 19
        }
      ]
    },
    {
      "cell_type": "code",
      "metadata": {
        "id": "zFMgv4h8wpqP",
        "colab_type": "code",
        "colab": {
          "base_uri": "https://localhost:8080/",
          "height": 34
        },
        "outputId": "c7e095f0-6343-4944-bf81-24a7a7327a4c"
      },
      "source": [
        "dftr.shape"
      ],
      "execution_count": 22,
      "outputs": [
        {
          "output_type": "execute_result",
          "data": {
            "text/plain": [
              "(33750, 15)"
            ]
          },
          "metadata": {
            "tags": []
          },
          "execution_count": 22
        }
      ]
    },
    {
      "cell_type": "code",
      "metadata": {
        "id": "G00_1xIMxvJ6",
        "colab_type": "code",
        "colab": {
          "base_uri": "https://localhost:8080/",
          "height": 34
        },
        "outputId": "49b0994b-ad43-4c5c-8ee2-c16c099c8cd0"
      },
      "source": [
        "dfte.shape"
      ],
      "execution_count": 23,
      "outputs": [
        {
          "output_type": "execute_result",
          "data": {
            "text/plain": [
              "(14454, 14)"
            ]
          },
          "metadata": {
            "tags": []
          },
          "execution_count": 23
        }
      ]
    },
    {
      "cell_type": "code",
      "metadata": {
        "id": "o5hPrr95xyLh",
        "colab_type": "code",
        "colab": {
          "base_uri": "https://localhost:8080/",
          "height": 309
        },
        "outputId": "673d3086-2805-4c81-9710-8c1db2ef519e"
      },
      "source": [
        "dfte.head()"
      ],
      "execution_count": 24,
      "outputs": [
        {
          "output_type": "execute_result",
          "data": {
            "text/html": [
              "<div>\n",
              "<style scoped>\n",
              "    .dataframe tbody tr th:only-of-type {\n",
              "        vertical-align: middle;\n",
              "    }\n",
              "\n",
              "    .dataframe tbody tr th {\n",
              "        vertical-align: top;\n",
              "    }\n",
              "\n",
              "    .dataframe thead th {\n",
              "        text-align: right;\n",
              "    }\n",
              "</style>\n",
              "<table border=\"1\" class=\"dataframe\">\n",
              "  <thead>\n",
              "    <tr style=\"text-align: right;\">\n",
              "      <th></th>\n",
              "      <th>date_time</th>\n",
              "      <th>is_holiday</th>\n",
              "      <th>air_pollution_index</th>\n",
              "      <th>humidity</th>\n",
              "      <th>wind_speed</th>\n",
              "      <th>wind_direction</th>\n",
              "      <th>visibility_in_miles</th>\n",
              "      <th>dew_point</th>\n",
              "      <th>temperature</th>\n",
              "      <th>rain_p_h</th>\n",
              "      <th>snow_p_h</th>\n",
              "      <th>clouds_all</th>\n",
              "      <th>weather_type</th>\n",
              "      <th>weather_description</th>\n",
              "    </tr>\n",
              "  </thead>\n",
              "  <tbody>\n",
              "    <tr>\n",
              "      <th>0</th>\n",
              "      <td>2017-05-18 00:00:00</td>\n",
              "      <td>None</td>\n",
              "      <td>73</td>\n",
              "      <td>63</td>\n",
              "      <td>1</td>\n",
              "      <td>27</td>\n",
              "      <td>4</td>\n",
              "      <td>4</td>\n",
              "      <td>285.15</td>\n",
              "      <td>0.0</td>\n",
              "      <td>0</td>\n",
              "      <td>90</td>\n",
              "      <td>Rain</td>\n",
              "      <td>moderate rain</td>\n",
              "    </tr>\n",
              "    <tr>\n",
              "      <th>1</th>\n",
              "      <td>2017-05-18 00:00:00</td>\n",
              "      <td>None</td>\n",
              "      <td>251</td>\n",
              "      <td>63</td>\n",
              "      <td>1</td>\n",
              "      <td>27</td>\n",
              "      <td>4</td>\n",
              "      <td>4</td>\n",
              "      <td>285.15</td>\n",
              "      <td>0.0</td>\n",
              "      <td>0</td>\n",
              "      <td>90</td>\n",
              "      <td>Mist</td>\n",
              "      <td>mist</td>\n",
              "    </tr>\n",
              "    <tr>\n",
              "      <th>2</th>\n",
              "      <td>2017-05-18 00:00:00</td>\n",
              "      <td>None</td>\n",
              "      <td>75</td>\n",
              "      <td>56</td>\n",
              "      <td>1</td>\n",
              "      <td>0</td>\n",
              "      <td>1</td>\n",
              "      <td>1</td>\n",
              "      <td>285.15</td>\n",
              "      <td>0.0</td>\n",
              "      <td>0</td>\n",
              "      <td>90</td>\n",
              "      <td>Drizzle</td>\n",
              "      <td>light intensity drizzle</td>\n",
              "    </tr>\n",
              "    <tr>\n",
              "      <th>3</th>\n",
              "      <td>2017-05-18 01:00:00</td>\n",
              "      <td>None</td>\n",
              "      <td>98</td>\n",
              "      <td>56</td>\n",
              "      <td>1</td>\n",
              "      <td>351</td>\n",
              "      <td>2</td>\n",
              "      <td>2</td>\n",
              "      <td>284.79</td>\n",
              "      <td>0.0</td>\n",
              "      <td>0</td>\n",
              "      <td>90</td>\n",
              "      <td>Rain</td>\n",
              "      <td>heavy intensity rain</td>\n",
              "    </tr>\n",
              "    <tr>\n",
              "      <th>4</th>\n",
              "      <td>2017-05-18 01:00:00</td>\n",
              "      <td>None</td>\n",
              "      <td>283</td>\n",
              "      <td>56</td>\n",
              "      <td>1</td>\n",
              "      <td>351</td>\n",
              "      <td>1</td>\n",
              "      <td>1</td>\n",
              "      <td>284.79</td>\n",
              "      <td>0.0</td>\n",
              "      <td>0</td>\n",
              "      <td>90</td>\n",
              "      <td>Mist</td>\n",
              "      <td>mist</td>\n",
              "    </tr>\n",
              "  </tbody>\n",
              "</table>\n",
              "</div>"
            ],
            "text/plain": [
              "             date_time is_holiday  ...  weather_type      weather_description\n",
              "0  2017-05-18 00:00:00       None  ...          Rain            moderate rain\n",
              "1  2017-05-18 00:00:00       None  ...          Mist                     mist\n",
              "2  2017-05-18 00:00:00       None  ...       Drizzle  light intensity drizzle\n",
              "3  2017-05-18 01:00:00       None  ...          Rain     heavy intensity rain\n",
              "4  2017-05-18 01:00:00       None  ...          Mist                     mist\n",
              "\n",
              "[5 rows x 14 columns]"
            ]
          },
          "metadata": {
            "tags": []
          },
          "execution_count": 24
        }
      ]
    },
    {
      "cell_type": "code",
      "metadata": {
        "id": "msnqzjiwx0C5",
        "colab_type": "code",
        "colab": {}
      },
      "source": [
        "tr_x=dftr.iloc[:,1:14]"
      ],
      "execution_count": 0,
      "outputs": []
    },
    {
      "cell_type": "code",
      "metadata": {
        "id": "bwWA3fAXyDyg",
        "colab_type": "code",
        "colab": {
          "base_uri": "https://localhost:8080/",
          "height": 224
        },
        "outputId": "e570cea4-5590-4047-e83e-1cfe1ae00fa9"
      },
      "source": [
        "tr_x.head()"
      ],
      "execution_count": 29,
      "outputs": [
        {
          "output_type": "execute_result",
          "data": {
            "text/html": [
              "<div>\n",
              "<style scoped>\n",
              "    .dataframe tbody tr th:only-of-type {\n",
              "        vertical-align: middle;\n",
              "    }\n",
              "\n",
              "    .dataframe tbody tr th {\n",
              "        vertical-align: top;\n",
              "    }\n",
              "\n",
              "    .dataframe thead th {\n",
              "        text-align: right;\n",
              "    }\n",
              "</style>\n",
              "<table border=\"1\" class=\"dataframe\">\n",
              "  <thead>\n",
              "    <tr style=\"text-align: right;\">\n",
              "      <th></th>\n",
              "      <th>is_holiday</th>\n",
              "      <th>air_pollution_index</th>\n",
              "      <th>humidity</th>\n",
              "      <th>wind_speed</th>\n",
              "      <th>wind_direction</th>\n",
              "      <th>visibility_in_miles</th>\n",
              "      <th>dew_point</th>\n",
              "      <th>temperature</th>\n",
              "      <th>rain_p_h</th>\n",
              "      <th>snow_p_h</th>\n",
              "      <th>clouds_all</th>\n",
              "      <th>weather_type</th>\n",
              "      <th>weather_description</th>\n",
              "    </tr>\n",
              "  </thead>\n",
              "  <tbody>\n",
              "    <tr>\n",
              "      <th>0</th>\n",
              "      <td>None</td>\n",
              "      <td>121</td>\n",
              "      <td>89</td>\n",
              "      <td>2</td>\n",
              "      <td>329</td>\n",
              "      <td>1</td>\n",
              "      <td>1</td>\n",
              "      <td>288.28</td>\n",
              "      <td>0.0</td>\n",
              "      <td>0.0</td>\n",
              "      <td>40</td>\n",
              "      <td>Clouds</td>\n",
              "      <td>scattered clouds</td>\n",
              "    </tr>\n",
              "    <tr>\n",
              "      <th>1</th>\n",
              "      <td>None</td>\n",
              "      <td>178</td>\n",
              "      <td>67</td>\n",
              "      <td>3</td>\n",
              "      <td>330</td>\n",
              "      <td>1</td>\n",
              "      <td>1</td>\n",
              "      <td>289.36</td>\n",
              "      <td>0.0</td>\n",
              "      <td>0.0</td>\n",
              "      <td>75</td>\n",
              "      <td>Clouds</td>\n",
              "      <td>broken clouds</td>\n",
              "    </tr>\n",
              "    <tr>\n",
              "      <th>2</th>\n",
              "      <td>None</td>\n",
              "      <td>113</td>\n",
              "      <td>66</td>\n",
              "      <td>3</td>\n",
              "      <td>329</td>\n",
              "      <td>2</td>\n",
              "      <td>2</td>\n",
              "      <td>289.58</td>\n",
              "      <td>0.0</td>\n",
              "      <td>0.0</td>\n",
              "      <td>90</td>\n",
              "      <td>Clouds</td>\n",
              "      <td>overcast clouds</td>\n",
              "    </tr>\n",
              "    <tr>\n",
              "      <th>3</th>\n",
              "      <td>None</td>\n",
              "      <td>20</td>\n",
              "      <td>66</td>\n",
              "      <td>3</td>\n",
              "      <td>329</td>\n",
              "      <td>5</td>\n",
              "      <td>5</td>\n",
              "      <td>290.13</td>\n",
              "      <td>0.0</td>\n",
              "      <td>0.0</td>\n",
              "      <td>90</td>\n",
              "      <td>Clouds</td>\n",
              "      <td>overcast clouds</td>\n",
              "    </tr>\n",
              "    <tr>\n",
              "      <th>4</th>\n",
              "      <td>None</td>\n",
              "      <td>281</td>\n",
              "      <td>65</td>\n",
              "      <td>3</td>\n",
              "      <td>329</td>\n",
              "      <td>7</td>\n",
              "      <td>7</td>\n",
              "      <td>291.14</td>\n",
              "      <td>0.0</td>\n",
              "      <td>0.0</td>\n",
              "      <td>75</td>\n",
              "      <td>Clouds</td>\n",
              "      <td>broken clouds</td>\n",
              "    </tr>\n",
              "  </tbody>\n",
              "</table>\n",
              "</div>"
            ],
            "text/plain": [
              "  is_holiday  air_pollution_index  ...  weather_type  weather_description\n",
              "0       None                  121  ...        Clouds     scattered clouds\n",
              "1       None                  178  ...        Clouds        broken clouds\n",
              "2       None                  113  ...        Clouds      overcast clouds\n",
              "3       None                   20  ...        Clouds      overcast clouds\n",
              "4       None                  281  ...        Clouds        broken clouds\n",
              "\n",
              "[5 rows x 13 columns]"
            ]
          },
          "metadata": {
            "tags": []
          },
          "execution_count": 29
        }
      ]
    },
    {
      "cell_type": "code",
      "metadata": {
        "id": "on13EI4iyE2Q",
        "colab_type": "code",
        "colab": {
          "base_uri": "https://localhost:8080/",
          "height": 34
        },
        "outputId": "3c75a8a4-bd61-43cb-def8-ede713a55d97"
      },
      "source": [
        "tr_x.shape"
      ],
      "execution_count": 30,
      "outputs": [
        {
          "output_type": "execute_result",
          "data": {
            "text/plain": [
              "(33750, 13)"
            ]
          },
          "metadata": {
            "tags": []
          },
          "execution_count": 30
        }
      ]
    },
    {
      "cell_type": "code",
      "metadata": {
        "id": "LzuRkP69yQSz",
        "colab_type": "code",
        "colab": {
          "base_uri": "https://localhost:8080/",
          "height": 122
        },
        "outputId": "4996bef1-5d79-4b97-c711-c2db55ebb557"
      },
      "source": [
        "pd.Categorical(tr_x['weather_description'])"
      ],
      "execution_count": 35,
      "outputs": [
        {
          "output_type": "execute_result",
          "data": {
            "text/plain": [
              "[scattered clouds, broken clouds, overcast clouds, overcast clouds, broken clouds, ..., mist, heavy intensity rain, mist, heavy intensity rain, mist]\n",
              "Length: 33750\n",
              "Categories (38, object): [SQUALLS, Sky is Clear, broken clouds, drizzle, ...,\n",
              "                          thunderstorm with light drizzle, thunderstorm with light rain, thunderstorm with rain,\n",
              "                          very heavy rain]"
            ]
          },
          "metadata": {
            "tags": []
          },
          "execution_count": 35
        }
      ]
    },
    {
      "cell_type": "code",
      "metadata": {
        "id": "-5f6sobjyybj",
        "colab_type": "code",
        "colab": {}
      },
      "source": [
        "tr_x=pd.get_dummies(tr_x)"
      ],
      "execution_count": 0,
      "outputs": []
    },
    {
      "cell_type": "code",
      "metadata": {
        "id": "KEK87iRFznEM",
        "colab_type": "code",
        "colab": {
          "base_uri": "https://localhost:8080/",
          "height": 34
        },
        "outputId": "f3376ae7-8a78-4282-e9ee-ec5fc9b43e1b"
      },
      "source": [
        "tr_x.shape"
      ],
      "execution_count": 40,
      "outputs": [
        {
          "output_type": "execute_result",
          "data": {
            "text/plain": [
              "(33750, 71)"
            ]
          },
          "metadata": {
            "tags": []
          },
          "execution_count": 40
        }
      ]
    },
    {
      "cell_type": "code",
      "metadata": {
        "id": "gefvHkspz6rh",
        "colab_type": "code",
        "colab": {}
      },
      "source": [
        "tr_y=dftr.iloc[:,14]"
      ],
      "execution_count": 0,
      "outputs": []
    },
    {
      "cell_type": "code",
      "metadata": {
        "id": "iZ8t7acO0CRP",
        "colab_type": "code",
        "colab": {
          "base_uri": "https://localhost:8080/",
          "height": 34
        },
        "outputId": "7de2e7c3-42e0-4620-a592-517ff5e64844"
      },
      "source": [
        "tr_y.shape"
      ],
      "execution_count": 44,
      "outputs": [
        {
          "output_type": "execute_result",
          "data": {
            "text/plain": [
              "(33750,)"
            ]
          },
          "metadata": {
            "tags": []
          },
          "execution_count": 44
        }
      ]
    },
    {
      "cell_type": "code",
      "metadata": {
        "id": "LmanAGAl0Iw_",
        "colab_type": "code",
        "colab": {}
      },
      "source": [
        "from sklearn.model_selection import train_test_split"
      ],
      "execution_count": 0,
      "outputs": []
    },
    {
      "cell_type": "code",
      "metadata": {
        "id": "f_JmRtFP0tYD",
        "colab_type": "code",
        "colab": {}
      },
      "source": [
        "xtr,xte,ytr,yte=train_test_split(tr_x,tr_y,test_size=0.15)"
      ],
      "execution_count": 0,
      "outputs": []
    },
    {
      "cell_type": "code",
      "metadata": {
        "id": "WdjB7T9A08tH",
        "colab_type": "code",
        "colab": {
          "base_uri": "https://localhost:8080/",
          "height": 34
        },
        "outputId": "36443168-c472-4d8e-c772-70cd6392f481"
      },
      "source": [
        "xte.shape"
      ],
      "execution_count": 52,
      "outputs": [
        {
          "output_type": "execute_result",
          "data": {
            "text/plain": [
              "(5063, 71)"
            ]
          },
          "metadata": {
            "tags": []
          },
          "execution_count": 52
        }
      ]
    },
    {
      "cell_type": "code",
      "metadata": {
        "id": "rMYBuZxG0-FQ",
        "colab_type": "code",
        "colab": {}
      },
      "source": [
        "from sklearn.linear_model import LinearRegression"
      ],
      "execution_count": 0,
      "outputs": []
    },
    {
      "cell_type": "code",
      "metadata": {
        "id": "NG-jNREQ1Sv-",
        "colab_type": "code",
        "colab": {}
      },
      "source": [
        "model1=LinearRegression(n_jobs=-1)"
      ],
      "execution_count": 0,
      "outputs": []
    },
    {
      "cell_type": "code",
      "metadata": {
        "id": "KNSqTSbT1ctE",
        "colab_type": "code",
        "colab": {
          "base_uri": "https://localhost:8080/",
          "height": 34
        },
        "outputId": "5252e753-387c-4f74-a16c-bd8977196935"
      },
      "source": [
        "model1.fit(xtr,ytr)"
      ],
      "execution_count": 55,
      "outputs": [
        {
          "output_type": "execute_result",
          "data": {
            "text/plain": [
              "LinearRegression(copy_X=True, fit_intercept=True, n_jobs=-1, normalize=False)"
            ]
          },
          "metadata": {
            "tags": []
          },
          "execution_count": 55
        }
      ]
    },
    {
      "cell_type": "code",
      "metadata": {
        "id": "JfkdsJ6b1h11",
        "colab_type": "code",
        "colab": {}
      },
      "source": [
        "from sklearn.metrics import mean_squared_error"
      ],
      "execution_count": 0,
      "outputs": []
    },
    {
      "cell_type": "code",
      "metadata": {
        "id": "4cki4DgC1_Wi",
        "colab_type": "code",
        "colab": {}
      },
      "source": [
        "def scr(yact,ypre):\n",
        "  return (100-mean_squared_error(yact,ypre))"
      ],
      "execution_count": 0,
      "outputs": []
    },
    {
      "cell_type": "code",
      "metadata": {
        "id": "-QvBJWtN2ZWN",
        "colab_type": "code",
        "colab": {}
      },
      "source": [
        "pr=model1.predict(xtr)"
      ],
      "execution_count": 0,
      "outputs": []
    },
    {
      "cell_type": "code",
      "metadata": {
        "id": "9AVASW9-2QiQ",
        "colab_type": "code",
        "colab": {
          "base_uri": "https://localhost:8080/",
          "height": 34
        },
        "outputId": "7506de2c-32ad-4222-849f-6ce22ff7a916"
      },
      "source": [
        "scr(ytr,pr)"
      ],
      "execution_count": 59,
      "outputs": [
        {
          "output_type": "execute_result",
          "data": {
            "text/plain": [
              "-3799723.4622292714"
            ]
          },
          "metadata": {
            "tags": []
          },
          "execution_count": 59
        }
      ]
    },
    {
      "cell_type": "code",
      "metadata": {
        "id": "FxU-Bl1i2nU9",
        "colab_type": "code",
        "colab": {
          "base_uri": "https://localhost:8080/",
          "height": 34
        },
        "outputId": "bac04fbe-5cb9-4b6b-ad66-66451b24ed49"
      },
      "source": [
        "pr.shape"
      ],
      "execution_count": 63,
      "outputs": [
        {
          "output_type": "execute_result",
          "data": {
            "text/plain": [
              "(28687,)"
            ]
          },
          "metadata": {
            "tags": []
          },
          "execution_count": 63
        }
      ]
    },
    {
      "cell_type": "code",
      "metadata": {
        "id": "g1nEq7f92tLO",
        "colab_type": "code",
        "colab": {
          "base_uri": "https://localhost:8080/",
          "height": 34
        },
        "outputId": "6c5e0f61-ff65-47cd-f7f7-dec641c3f37e"
      },
      "source": [
        "ytr.shape"
      ],
      "execution_count": 64,
      "outputs": [
        {
          "output_type": "execute_result",
          "data": {
            "text/plain": [
              "(28687,)"
            ]
          },
          "metadata": {
            "tags": []
          },
          "execution_count": 64
        }
      ]
    },
    {
      "cell_type": "code",
      "metadata": {
        "id": "ArGp46yo3FMa",
        "colab_type": "code",
        "colab": {
          "base_uri": "https://localhost:8080/",
          "height": 34
        },
        "outputId": "9bb2276d-76d5-4c12-e068-3f3a2765959a"
      },
      "source": [
        "np.sum((ytr-pr)**2)/28687"
      ],
      "execution_count": 66,
      "outputs": [
        {
          "output_type": "execute_result",
          "data": {
            "text/plain": [
              "3799823.4622292714"
            ]
          },
          "metadata": {
            "tags": []
          },
          "execution_count": 66
        }
      ]
    },
    {
      "cell_type": "code",
      "metadata": {
        "id": "tGuHKaON3YSN",
        "colab_type": "code",
        "colab": {}
      },
      "source": [
        "from sklearn.svm import LinearSVR"
      ],
      "execution_count": 0,
      "outputs": []
    },
    {
      "cell_type": "code",
      "metadata": {
        "id": "Uu8aFuqi3so9",
        "colab_type": "code",
        "colab": {}
      },
      "source": [
        "model2=LinearSVR()"
      ],
      "execution_count": 0,
      "outputs": []
    },
    {
      "cell_type": "code",
      "metadata": {
        "id": "78Zb-WCc31YW",
        "colab_type": "code",
        "colab": {
          "base_uri": "https://localhost:8080/",
          "height": 122
        },
        "outputId": "9628b67c-e154-4ca5-bc46-16923109a40e"
      },
      "source": [
        "model2.fit(xtr,ytr)"
      ],
      "execution_count": 69,
      "outputs": [
        {
          "output_type": "stream",
          "text": [
            "/usr/local/lib/python3.6/dist-packages/sklearn/svm/base.py:929: ConvergenceWarning: Liblinear failed to converge, increase the number of iterations.\n",
            "  \"the number of iterations.\", ConvergenceWarning)\n"
          ],
          "name": "stderr"
        },
        {
          "output_type": "execute_result",
          "data": {
            "text/plain": [
              "LinearSVR(C=1.0, dual=True, epsilon=0.0, fit_intercept=True,\n",
              "          intercept_scaling=1.0, loss='epsilon_insensitive', max_iter=1000,\n",
              "          random_state=None, tol=0.0001, verbose=0)"
            ]
          },
          "metadata": {
            "tags": []
          },
          "execution_count": 69
        }
      ]
    },
    {
      "cell_type": "code",
      "metadata": {
        "id": "sCnUBpbU34wr",
        "colab_type": "code",
        "colab": {}
      },
      "source": [
        "pr=model2.predict(xtr)"
      ],
      "execution_count": 0,
      "outputs": []
    },
    {
      "cell_type": "code",
      "metadata": {
        "id": "mMscv6QI4CT8",
        "colab_type": "code",
        "colab": {
          "base_uri": "https://localhost:8080/",
          "height": 34
        },
        "outputId": "c39172d0-baf2-4e17-b04d-c23082c07a4a"
      },
      "source": [
        "scr(ytr,pr)"
      ],
      "execution_count": 71,
      "outputs": [
        {
          "output_type": "execute_result",
          "data": {
            "text/plain": [
              "-3853837.8951664064"
            ]
          },
          "metadata": {
            "tags": []
          },
          "execution_count": 71
        }
      ]
    },
    {
      "cell_type": "code",
      "metadata": {
        "id": "x0GNvNs54DxQ",
        "colab_type": "code",
        "colab": {}
      },
      "source": [
        "import tensorflow as tf"
      ],
      "execution_count": 0,
      "outputs": []
    },
    {
      "cell_type": "code",
      "metadata": {
        "id": "bOOpDxuv4TkQ",
        "colab_type": "code",
        "colab": {
          "base_uri": "https://localhost:8080/",
          "height": 105
        },
        "outputId": "c4da76db-a355-4922-8937-9f896ff5aaa0"
      },
      "source": [
        "model = tf.keras.models.Sequential([\n",
        "  tf.keras.layers.Dense(128, activation='relu'),\n",
        "  tf.keras.layers.Dropout(0.2),\n",
        "  tf.keras.layers.Dense(1, activation='linear')\n",
        "])\n",
        "\n",
        "model.compile(optimizer='adam',\n",
        "              loss='mse',\n",
        "              metrics=['mse'])\n",
        "\n"
      ],
      "execution_count": 74,
      "outputs": [
        {
          "output_type": "stream",
          "text": [
            "WARNING: Logging before flag parsing goes to stderr.\n",
            "W0727 10:05:37.115266 140248656115584 deprecation.py:506] From /usr/local/lib/python3.6/dist-packages/tensorflow/python/ops/init_ops.py:1251: calling VarianceScaling.__init__ (from tensorflow.python.ops.init_ops) with dtype is deprecated and will be removed in a future version.\n",
            "Instructions for updating:\n",
            "Call initializer instance with the dtype argument instead of passing it to the constructor\n"
          ],
          "name": "stderr"
        }
      ]
    },
    {
      "cell_type": "code",
      "metadata": {
        "id": "TuDKSa1D5JNP",
        "colab_type": "code",
        "colab": {
          "base_uri": "https://localhost:8080/",
          "height": 904
        },
        "outputId": "86a1a182-2783-4a36-8a77-60aa53d96528"
      },
      "source": [
        "model.fit(xtr.values, ytr.values, epochs=25)\n"
      ],
      "execution_count": 78,
      "outputs": [
        {
          "output_type": "stream",
          "text": [
            "Epoch 1/25\n",
            "28687/28687 [==============================] - 1s 52us/sample - loss: 3947163.2722 - mean_squared_error: 3947164.5000\n",
            "Epoch 2/25\n",
            "28687/28687 [==============================] - 1s 52us/sample - loss: 3938464.2224 - mean_squared_error: 3938465.5000\n",
            "Epoch 3/25\n",
            "28687/28687 [==============================] - 1s 52us/sample - loss: 3938132.8673 - mean_squared_error: 3938134.7500\n",
            "Epoch 4/25\n",
            "28687/28687 [==============================] - 1s 51us/sample - loss: 3941016.3609 - mean_squared_error: 3941016.7500\n",
            "Epoch 5/25\n",
            "28687/28687 [==============================] - 1s 52us/sample - loss: 3927460.4862 - mean_squared_error: 3927454.7500\n",
            "Epoch 6/25\n",
            "28687/28687 [==============================] - 1s 50us/sample - loss: 3919673.3166 - mean_squared_error: 3919674.2500\n",
            "Epoch 7/25\n",
            "28687/28687 [==============================] - 1s 50us/sample - loss: 3925729.6690 - mean_squared_error: 3925730.0000\n",
            "Epoch 8/25\n",
            "28687/28687 [==============================] - 1s 49us/sample - loss: 3916713.2962 - mean_squared_error: 3916715.2500\n",
            "Epoch 9/25\n",
            "28687/28687 [==============================] - 1s 49us/sample - loss: 3914223.1809 - mean_squared_error: 3914223.0000\n",
            "Epoch 10/25\n",
            "28687/28687 [==============================] - 1s 51us/sample - loss: 3913447.7334 - mean_squared_error: 3913445.7500\n",
            "Epoch 11/25\n",
            "28687/28687 [==============================] - 1s 51us/sample - loss: 3912891.2326 - mean_squared_error: 3912895.7500\n",
            "Epoch 12/25\n",
            "28687/28687 [==============================] - 1s 50us/sample - loss: 3917791.6919 - mean_squared_error: 3917790.7500\n",
            "Epoch 13/25\n",
            "28687/28687 [==============================] - 2s 52us/sample - loss: 3907919.6564 - mean_squared_error: 3907919.2500\n",
            "Epoch 14/25\n",
            "28687/28687 [==============================] - 1s 51us/sample - loss: 3905590.5944 - mean_squared_error: 3905592.5000\n",
            "Epoch 15/25\n",
            "28687/28687 [==============================] - 1s 51us/sample - loss: 3911738.8875 - mean_squared_error: 3911737.0000\n",
            "Epoch 16/25\n",
            "28687/28687 [==============================] - 1s 50us/sample - loss: 3898420.0408 - mean_squared_error: 3898417.0000\n",
            "Epoch 17/25\n",
            "28687/28687 [==============================] - 1s 52us/sample - loss: 3904661.5092 - mean_squared_error: 3904661.2500\n",
            "Epoch 18/25\n",
            "28687/28687 [==============================] - 1s 51us/sample - loss: 3901586.0112 - mean_squared_error: 3901586.5000\n",
            "Epoch 19/25\n",
            "28687/28687 [==============================] - 1s 51us/sample - loss: 3896618.6995 - mean_squared_error: 3896617.7500\n",
            "Epoch 20/25\n",
            "28687/28687 [==============================] - 1s 51us/sample - loss: 3906195.3920 - mean_squared_error: 3906193.0000\n",
            "Epoch 21/25\n",
            "28687/28687 [==============================] - 1s 49us/sample - loss: 3897088.3695 - mean_squared_error: 3897088.7500\n",
            "Epoch 22/25\n",
            "28687/28687 [==============================] - 1s 51us/sample - loss: 3891670.2069 - mean_squared_error: 3891671.2500\n",
            "Epoch 23/25\n",
            "28687/28687 [==============================] - 1s 52us/sample - loss: 3898874.2262 - mean_squared_error: 3898873.7500\n",
            "Epoch 24/25\n",
            "28687/28687 [==============================] - 1s 50us/sample - loss: 3897270.3746 - mean_squared_error: 3897272.5000\n",
            "Epoch 25/25\n",
            "28687/28687 [==============================] - 1s 51us/sample - loss: 3891975.7018 - mean_squared_error: 3891976.2500\n"
          ],
          "name": "stdout"
        },
        {
          "output_type": "execute_result",
          "data": {
            "text/plain": [
              "<tensorflow.python.keras.callbacks.History at 0x7f8de6498550>"
            ]
          },
          "metadata": {
            "tags": []
          },
          "execution_count": 78
        }
      ]
    },
    {
      "cell_type": "code",
      "metadata": {
        "id": "exzEuoAD5LVl",
        "colab_type": "code",
        "colab": {
          "base_uri": "https://localhost:8080/",
          "height": 71
        },
        "outputId": "98df77a1-2b79-4105-efc5-c23d4eb8ae73"
      },
      "source": [
        "model.evaluate(xte,yte)"
      ],
      "execution_count": 79,
      "outputs": [
        {
          "output_type": "stream",
          "text": [
            "5063/5063 [==============================] - 0s 29us/sample - loss: 3822893.8237 - mean_squared_error: 3822892.7500\n"
          ],
          "name": "stdout"
        },
        {
          "output_type": "execute_result",
          "data": {
            "text/plain": [
              "[3822893.823721114, 3822892.8]"
            ]
          },
          "metadata": {
            "tags": []
          },
          "execution_count": 79
        }
      ]
    },
    {
      "cell_type": "code",
      "metadata": {
        "id": "Owu2ASyN63BB",
        "colab_type": "code",
        "colab": {}
      },
      "source": [
        "import keras\n",
        "import keras.layers as layers"
      ],
      "execution_count": 0,
      "outputs": []
    },
    {
      "cell_type": "code",
      "metadata": {
        "id": "1iFkd6xU5pNv",
        "colab_type": "code",
        "colab": {}
      },
      "source": [
        "model = keras.Sequential([\n",
        "    layers.Dense(64, activation=tf.nn.relu),\n",
        "    layers.Dense(64, activation=tf.nn.relu),\n",
        "    layers.Dropout(0.10),\n",
        "    layers.Dense(32, activation=tf.nn.relu),\n",
        "    layers.Dense(32, activation=tf.nn.relu),\n",
        "    layers.Dense(18, activation=tf.nn.relu),\n",
        "    \n",
        "    layers.Dense(12, activation=tf.nn.relu),\n",
        "    layers.Dense(1)\n",
        "  ])\n",
        "\n",
        "#optimizer = tf.keras.optimizers.RMSprop(0.001)\n",
        "\n",
        "model.compile(loss='mean_squared_error',\n",
        "                optimizer='adam',\n",
        "                metrics=['mean_absolute_error', 'mean_squared_error'])"
      ],
      "execution_count": 0,
      "outputs": []
    },
    {
      "cell_type": "code",
      "metadata": {
        "id": "AQbl6Imm6t7z",
        "colab_type": "code",
        "colab": {
          "base_uri": "https://localhost:8080/",
          "height": 734
        },
        "outputId": "7c157140-888c-4188-8feb-46e548c7f8f7"
      },
      "source": [
        "model.fit(xtr.values, ytr.values, epochs=20)"
      ],
      "execution_count": 101,
      "outputs": [
        {
          "output_type": "stream",
          "text": [
            "Epoch 1/20\n",
            "28687/28687 [==============================] - 2s 86us/step - loss: 4405699.1001 - mean_absolute_error: 1804.7110 - mean_squared_error: 4405699.1001\n",
            "Epoch 2/20\n",
            "28687/28687 [==============================] - 2s 54us/step - loss: 3968134.1065 - mean_absolute_error: 1742.5233 - mean_squared_error: 3968134.1065\n",
            "Epoch 3/20\n",
            "28687/28687 [==============================] - 2s 55us/step - loss: 3957184.2180 - mean_absolute_error: 1740.6997 - mean_squared_error: 3957184.2180\n",
            "Epoch 4/20\n",
            "28687/28687 [==============================] - 2s 56us/step - loss: 3939008.0685 - mean_absolute_error: 1735.4311 - mean_squared_error: 3939008.0685\n",
            "Epoch 5/20\n",
            "28687/28687 [==============================] - 2s 57us/step - loss: 3932258.2480 - mean_absolute_error: 1733.7034 - mean_squared_error: 3932258.2480\n",
            "Epoch 6/20\n",
            "28687/28687 [==============================] - 2s 57us/step - loss: 3922314.7769 - mean_absolute_error: 1731.0725 - mean_squared_error: 3922314.7769\n",
            "Epoch 7/20\n",
            "28687/28687 [==============================] - 2s 56us/step - loss: 3918757.6271 - mean_absolute_error: 1728.6462 - mean_squared_error: 3918757.6271\n",
            "Epoch 8/20\n",
            "28687/28687 [==============================] - 2s 55us/step - loss: 3902351.0008 - mean_absolute_error: 1725.4221 - mean_squared_error: 3902351.0008\n",
            "Epoch 9/20\n",
            "28687/28687 [==============================] - 2s 55us/step - loss: 3905353.6646 - mean_absolute_error: 1726.3976 - mean_squared_error: 3905353.6646\n",
            "Epoch 10/20\n",
            "28687/28687 [==============================] - 2s 55us/step - loss: 3895063.4236 - mean_absolute_error: 1723.6131 - mean_squared_error: 3895063.4236\n",
            "Epoch 11/20\n",
            "28687/28687 [==============================] - 2s 56us/step - loss: 3883318.2014 - mean_absolute_error: 1721.5524 - mean_squared_error: 3883318.2014\n",
            "Epoch 12/20\n",
            "28687/28687 [==============================] - 2s 56us/step - loss: 3896202.2794 - mean_absolute_error: 1723.9323 - mean_squared_error: 3896202.2794\n",
            "Epoch 13/20\n",
            "28687/28687 [==============================] - 2s 56us/step - loss: 3882592.4462 - mean_absolute_error: 1721.2398 - mean_squared_error: 3882592.4462\n",
            "Epoch 14/20\n",
            "28687/28687 [==============================] - 2s 56us/step - loss: 3882879.9609 - mean_absolute_error: 1720.4908 - mean_squared_error: 3882879.9609\n",
            "Epoch 15/20\n",
            "28687/28687 [==============================] - 2s 55us/step - loss: 3889938.1645 - mean_absolute_error: 1721.1618 - mean_squared_error: 3889938.1645\n",
            "Epoch 16/20\n",
            "28687/28687 [==============================] - 2s 54us/step - loss: 3873679.7473 - mean_absolute_error: 1718.7946 - mean_squared_error: 3873679.7473\n",
            "Epoch 17/20\n",
            "28687/28687 [==============================] - 2s 56us/step - loss: 3876845.8251 - mean_absolute_error: 1718.0347 - mean_squared_error: 3876845.8251\n",
            "Epoch 18/20\n",
            "28687/28687 [==============================] - 2s 57us/step - loss: 3866897.9379 - mean_absolute_error: 1716.5676 - mean_squared_error: 3866897.9379\n",
            "Epoch 19/20\n",
            "28687/28687 [==============================] - 2s 57us/step - loss: 3869402.4694 - mean_absolute_error: 1716.7907 - mean_squared_error: 3869402.4694\n",
            "Epoch 20/20\n",
            "28687/28687 [==============================] - 2s 56us/step - loss: 3873438.6941 - mean_absolute_error: 1717.6424 - mean_squared_error: 3873438.6941\n"
          ],
          "name": "stdout"
        },
        {
          "output_type": "execute_result",
          "data": {
            "text/plain": [
              "<keras.callbacks.History at 0x7f8ddf07fb38>"
            ]
          },
          "metadata": {
            "tags": []
          },
          "execution_count": 101
        }
      ]
    },
    {
      "cell_type": "code",
      "metadata": {
        "id": "EbfApeQq7T3S",
        "colab_type": "code",
        "colab": {
          "base_uri": "https://localhost:8080/",
          "height": 51
        },
        "outputId": "5292058d-a923-4f38-8ac2-84fb0227b63d"
      },
      "source": [
        "model.evaluate(xte,yte)"
      ],
      "execution_count": 102,
      "outputs": [
        {
          "output_type": "stream",
          "text": [
            "5063/5063 [==============================] - 0s 69us/step\n"
          ],
          "name": "stdout"
        },
        {
          "output_type": "execute_result",
          "data": {
            "text/plain": [
              "[3811995.771183093, 1706.578905811193, 3811995.771183093]"
            ]
          },
          "metadata": {
            "tags": []
          },
          "execution_count": 102
        }
      ]
    },
    {
      "cell_type": "code",
      "metadata": {
        "id": "j0Z6LH6y7ij3",
        "colab_type": "code",
        "colab": {
          "base_uri": "https://localhost:8080/",
          "height": 309
        },
        "outputId": "50f0873c-49e2-49fb-df41-33c31d232501"
      },
      "source": [
        ""
      ],
      "execution_count": 91,
      "outputs": [
        {
          "output_type": "execute_result",
          "data": {
            "text/html": [
              "<div>\n",
              "<style scoped>\n",
              "    .dataframe tbody tr th:only-of-type {\n",
              "        vertical-align: middle;\n",
              "    }\n",
              "\n",
              "    .dataframe tbody tr th {\n",
              "        vertical-align: top;\n",
              "    }\n",
              "\n",
              "    .dataframe thead th {\n",
              "        text-align: right;\n",
              "    }\n",
              "</style>\n",
              "<table border=\"1\" class=\"dataframe\">\n",
              "  <thead>\n",
              "    <tr style=\"text-align: right;\">\n",
              "      <th></th>\n",
              "      <th>date_time</th>\n",
              "      <th>is_holiday</th>\n",
              "      <th>air_pollution_index</th>\n",
              "      <th>humidity</th>\n",
              "      <th>wind_speed</th>\n",
              "      <th>wind_direction</th>\n",
              "      <th>visibility_in_miles</th>\n",
              "      <th>dew_point</th>\n",
              "      <th>temperature</th>\n",
              "      <th>rain_p_h</th>\n",
              "      <th>snow_p_h</th>\n",
              "      <th>clouds_all</th>\n",
              "      <th>weather_type</th>\n",
              "      <th>weather_description</th>\n",
              "    </tr>\n",
              "  </thead>\n",
              "  <tbody>\n",
              "    <tr>\n",
              "      <th>0</th>\n",
              "      <td>2017-05-18 00:00:00</td>\n",
              "      <td>None</td>\n",
              "      <td>73</td>\n",
              "      <td>63</td>\n",
              "      <td>1</td>\n",
              "      <td>27</td>\n",
              "      <td>4</td>\n",
              "      <td>4</td>\n",
              "      <td>285.15</td>\n",
              "      <td>0.0</td>\n",
              "      <td>0</td>\n",
              "      <td>90</td>\n",
              "      <td>Rain</td>\n",
              "      <td>moderate rain</td>\n",
              "    </tr>\n",
              "    <tr>\n",
              "      <th>1</th>\n",
              "      <td>2017-05-18 00:00:00</td>\n",
              "      <td>None</td>\n",
              "      <td>251</td>\n",
              "      <td>63</td>\n",
              "      <td>1</td>\n",
              "      <td>27</td>\n",
              "      <td>4</td>\n",
              "      <td>4</td>\n",
              "      <td>285.15</td>\n",
              "      <td>0.0</td>\n",
              "      <td>0</td>\n",
              "      <td>90</td>\n",
              "      <td>Mist</td>\n",
              "      <td>mist</td>\n",
              "    </tr>\n",
              "    <tr>\n",
              "      <th>2</th>\n",
              "      <td>2017-05-18 00:00:00</td>\n",
              "      <td>None</td>\n",
              "      <td>75</td>\n",
              "      <td>56</td>\n",
              "      <td>1</td>\n",
              "      <td>0</td>\n",
              "      <td>1</td>\n",
              "      <td>1</td>\n",
              "      <td>285.15</td>\n",
              "      <td>0.0</td>\n",
              "      <td>0</td>\n",
              "      <td>90</td>\n",
              "      <td>Drizzle</td>\n",
              "      <td>light intensity drizzle</td>\n",
              "    </tr>\n",
              "    <tr>\n",
              "      <th>3</th>\n",
              "      <td>2017-05-18 01:00:00</td>\n",
              "      <td>None</td>\n",
              "      <td>98</td>\n",
              "      <td>56</td>\n",
              "      <td>1</td>\n",
              "      <td>351</td>\n",
              "      <td>2</td>\n",
              "      <td>2</td>\n",
              "      <td>284.79</td>\n",
              "      <td>0.0</td>\n",
              "      <td>0</td>\n",
              "      <td>90</td>\n",
              "      <td>Rain</td>\n",
              "      <td>heavy intensity rain</td>\n",
              "    </tr>\n",
              "    <tr>\n",
              "      <th>4</th>\n",
              "      <td>2017-05-18 01:00:00</td>\n",
              "      <td>None</td>\n",
              "      <td>283</td>\n",
              "      <td>56</td>\n",
              "      <td>1</td>\n",
              "      <td>351</td>\n",
              "      <td>1</td>\n",
              "      <td>1</td>\n",
              "      <td>284.79</td>\n",
              "      <td>0.0</td>\n",
              "      <td>0</td>\n",
              "      <td>90</td>\n",
              "      <td>Mist</td>\n",
              "      <td>mist</td>\n",
              "    </tr>\n",
              "  </tbody>\n",
              "</table>\n",
              "</div>"
            ],
            "text/plain": [
              "             date_time is_holiday  ...  weather_type      weather_description\n",
              "0  2017-05-18 00:00:00       None  ...          Rain            moderate rain\n",
              "1  2017-05-18 00:00:00       None  ...          Mist                     mist\n",
              "2  2017-05-18 00:00:00       None  ...       Drizzle  light intensity drizzle\n",
              "3  2017-05-18 01:00:00       None  ...          Rain     heavy intensity rain\n",
              "4  2017-05-18 01:00:00       None  ...          Mist                     mist\n",
              "\n",
              "[5 rows x 14 columns]"
            ]
          },
          "metadata": {
            "tags": []
          },
          "execution_count": 91
        }
      ]
    },
    {
      "cell_type": "code",
      "metadata": {
        "id": "kix4TcVy7rSC",
        "colab_type": "code",
        "colab": {}
      },
      "source": [
        "te=dfte.iloc[:,1:14]"
      ],
      "execution_count": 0,
      "outputs": []
    },
    {
      "cell_type": "code",
      "metadata": {
        "id": "Rg649Npc8I8S",
        "colab_type": "code",
        "colab": {}
      },
      "source": [
        "te_x=pd.get_dummies(te)"
      ],
      "execution_count": 0,
      "outputs": []
    },
    {
      "cell_type": "code",
      "metadata": {
        "id": "rJ3IPgcm-NAX",
        "colab_type": "code",
        "colab": {
          "base_uri": "https://localhost:8080/",
          "height": 765
        },
        "outputId": "cfac3d9e-355c-4b92-8c8b-693772ebf975"
      },
      "source": [
        "tr_x.columns"
      ],
      "execution_count": 111,
      "outputs": [
        {
          "output_type": "execute_result",
          "data": {
            "text/plain": [
              "Index(['air_pollution_index', 'humidity', 'wind_speed', 'wind_direction',\n",
              "       'visibility_in_miles', 'dew_point', 'temperature', 'rain_p_h',\n",
              "       'snow_p_h', 'clouds_all', 'is_holiday_Christmas Day',\n",
              "       'is_holiday_Columbus Day', 'is_holiday_Independence Day',\n",
              "       'is_holiday_Labor Day', 'is_holiday_Martin Luther King Jr Day',\n",
              "       'is_holiday_Memorial Day', 'is_holiday_New Years Day',\n",
              "       'is_holiday_None', 'is_holiday_State Fair',\n",
              "       'is_holiday_Thanksgiving Day', 'is_holiday_Veterans Day',\n",
              "       'is_holiday_Washingtons Birthday', 'weather_type_Clear',\n",
              "       'weather_type_Clouds', 'weather_type_Drizzle', 'weather_type_Fog',\n",
              "       'weather_type_Haze', 'weather_type_Mist', 'weather_type_Rain',\n",
              "       'weather_type_Smoke', 'weather_type_Snow', 'weather_type_Squall',\n",
              "       'weather_type_Thunderstorm', 'weather_description_SQUALLS',\n",
              "       'weather_description_Sky is Clear', 'weather_description_broken clouds',\n",
              "       'weather_description_drizzle', 'weather_description_few clouds',\n",
              "       'weather_description_fog', 'weather_description_freezing rain',\n",
              "       'weather_description_haze',\n",
              "       'weather_description_heavy intensity drizzle',\n",
              "       'weather_description_heavy intensity rain',\n",
              "       'weather_description_heavy snow',\n",
              "       'weather_description_light intensity drizzle',\n",
              "       'weather_description_light intensity shower rain',\n",
              "       'weather_description_light rain',\n",
              "       'weather_description_light rain and snow',\n",
              "       'weather_description_light shower snow',\n",
              "       'weather_description_light snow', 'weather_description_mist',\n",
              "       'weather_description_moderate rain',\n",
              "       'weather_description_overcast clouds',\n",
              "       'weather_description_proximity shower rain',\n",
              "       'weather_description_proximity thunderstorm',\n",
              "       'weather_description_proximity thunderstorm with drizzle',\n",
              "       'weather_description_proximity thunderstorm with rain',\n",
              "       'weather_description_scattered clouds',\n",
              "       'weather_description_shower drizzle', 'weather_description_shower snow',\n",
              "       'weather_description_sky is clear', 'weather_description_sleet',\n",
              "       'weather_description_smoke', 'weather_description_snow',\n",
              "       'weather_description_thunderstorm',\n",
              "       'weather_description_thunderstorm with drizzle',\n",
              "       'weather_description_thunderstorm with heavy rain',\n",
              "       'weather_description_thunderstorm with light drizzle',\n",
              "       'weather_description_thunderstorm with light rain',\n",
              "       'weather_description_thunderstorm with rain',\n",
              "       'weather_description_very heavy rain'],\n",
              "      dtype='object')"
            ]
          },
          "metadata": {
            "tags": []
          },
          "execution_count": 111
        }
      ]
    },
    {
      "cell_type": "code",
      "metadata": {
        "id": "1KbfRm3w-eea",
        "colab_type": "code",
        "colab": {
          "base_uri": "https://localhost:8080/",
          "height": 102
        },
        "outputId": "741d9cd7-6215-4a12-a1bb-3e2ffdd4c9dc"
      },
      "source": [
        "te.columns"
      ],
      "execution_count": 112,
      "outputs": [
        {
          "output_type": "execute_result",
          "data": {
            "text/plain": [
              "Index(['is_holiday', 'air_pollution_index', 'humidity', 'wind_speed',\n",
              "       'wind_direction', 'visibility_in_miles', 'dew_point', 'temperature',\n",
              "       'rain_p_h', 'snow_p_h', 'clouds_all', 'weather_type',\n",
              "       'weather_description'],\n",
              "      dtype='object')"
            ]
          },
          "metadata": {
            "tags": []
          },
          "execution_count": 112
        }
      ]
    },
    {
      "cell_type": "code",
      "metadata": {
        "id": "0OZZEpY5-rdt",
        "colab_type": "code",
        "colab": {}
      },
      "source": [
        "missing_cols = set( tr_x.columns ) - set( te_x.columns )\n",
        "for c in missing_cols:\n",
        "       te_x[c] = 0"
      ],
      "execution_count": 0,
      "outputs": []
    },
    {
      "cell_type": "code",
      "metadata": {
        "id": "eH4NMeHxAScE",
        "colab_type": "code",
        "colab": {
          "base_uri": "https://localhost:8080/",
          "height": 34
        },
        "outputId": "a2e89e91-bd0c-47b1-f2b9-38c694288d2f"
      },
      "source": [
        "te_x.shape"
      ],
      "execution_count": 119,
      "outputs": [
        {
          "output_type": "execute_result",
          "data": {
            "text/plain": [
              "(14454, 71)"
            ]
          },
          "metadata": {
            "tags": []
          },
          "execution_count": 119
        }
      ]
    },
    {
      "cell_type": "code",
      "metadata": {
        "id": "S5mCddgfAX2C",
        "colab_type": "code",
        "colab": {
          "base_uri": "https://localhost:8080/",
          "height": 153
        },
        "outputId": "f356e6ec-1a29-4297-8192-55b0c84d5b7d"
      },
      "source": [
        "te_x.columns==tr_x.columns"
      ],
      "execution_count": 123,
      "outputs": [
        {
          "output_type": "execute_result",
          "data": {
            "text/plain": [
              "array([ True,  True,  True,  True,  True,  True,  True,  True,  True,\n",
              "        True,  True,  True,  True,  True,  True,  True,  True,  True,\n",
              "        True,  True,  True,  True,  True,  True,  True,  True,  True,\n",
              "        True,  True,  True,  True,  True,  True,  True,  True,  True,\n",
              "        True,  True,  True,  True,  True,  True,  True,  True,  True,\n",
              "        True,  True,  True,  True,  True,  True,  True,  True,  True,\n",
              "        True,  True,  True,  True,  True,  True,  True,  True,  True,\n",
              "        True,  True,  True,  True,  True,  True,  True,  True])"
            ]
          },
          "metadata": {
            "tags": []
          },
          "execution_count": 123
        }
      ]
    },
    {
      "cell_type": "code",
      "metadata": {
        "id": "cYIIlcCbAhrV",
        "colab_type": "code",
        "colab": {}
      },
      "source": [
        " assert( set( tr_x.columns ) - set( te_x.columns ) == set())"
      ],
      "execution_count": 0,
      "outputs": []
    },
    {
      "cell_type": "code",
      "metadata": {
        "id": "A6JEkz7wAxjh",
        "colab_type": "code",
        "colab": {}
      },
      "source": [
        "te_x=te_x[tr_x.columns]"
      ],
      "execution_count": 0,
      "outputs": []
    },
    {
      "cell_type": "code",
      "metadata": {
        "id": "s6oapUjrA-v-",
        "colab_type": "code",
        "colab": {
          "base_uri": "https://localhost:8080/",
          "height": 34
        },
        "outputId": "1be742f6-8945-40f4-cbfe-10e4230b08ef"
      },
      "source": [
        "model"
      ],
      "execution_count": 124,
      "outputs": [
        {
          "output_type": "execute_result",
          "data": {
            "text/plain": [
              "<keras.engine.sequential.Sequential at 0x7f8ddf1de160>"
            ]
          },
          "metadata": {
            "tags": []
          },
          "execution_count": 124
        }
      ]
    },
    {
      "cell_type": "code",
      "metadata": {
        "id": "5ORY43u_BCaJ",
        "colab_type": "code",
        "colab": {}
      },
      "source": [
        "te_pr=model.predict(te_x)"
      ],
      "execution_count": 0,
      "outputs": []
    },
    {
      "cell_type": "code",
      "metadata": {
        "id": "X9RQxToHBH5R",
        "colab_type": "code",
        "colab": {
          "base_uri": "https://localhost:8080/",
          "height": 136
        },
        "outputId": "61fad5f2-81bf-4d91-c0ab-20014fc0382a"
      },
      "source": [
        "te_pr"
      ],
      "execution_count": 126,
      "outputs": [
        {
          "output_type": "execute_result",
          "data": {
            "text/plain": [
              "array([[3098.7368],\n",
              "       [3027.8477],\n",
              "       [3117.1301],\n",
              "       ...,\n",
              "       [3193.7976],\n",
              "       [3576.0156],\n",
              "       [3562.9802]], dtype=float32)"
            ]
          },
          "metadata": {
            "tags": []
          },
          "execution_count": 126
        }
      ]
    },
    {
      "cell_type": "code",
      "metadata": {
        "id": "6Aoqb-TgBJN5",
        "colab_type": "code",
        "colab": {
          "base_uri": "https://localhost:8080/",
          "height": 173
        },
        "outputId": "fb58dc43-98ca-44f4-8259-95ad5c04f37e"
      },
      "source": [
        "dfss.head()"
      ],
      "execution_count": 128,
      "outputs": [
        {
          "output_type": "execute_result",
          "data": {
            "text/html": [
              "<div>\n",
              "<style scoped>\n",
              "    .dataframe tbody tr th:only-of-type {\n",
              "        vertical-align: middle;\n",
              "    }\n",
              "\n",
              "    .dataframe tbody tr th {\n",
              "        vertical-align: top;\n",
              "    }\n",
              "\n",
              "    .dataframe thead th {\n",
              "        text-align: right;\n",
              "    }\n",
              "</style>\n",
              "<table border=\"1\" class=\"dataframe\">\n",
              "  <thead>\n",
              "    <tr style=\"text-align: right;\">\n",
              "      <th></th>\n",
              "      <th>date_time</th>\n",
              "      <th>traffic_volume</th>\n",
              "    </tr>\n",
              "  </thead>\n",
              "  <tbody>\n",
              "    <tr>\n",
              "      <th>0</th>\n",
              "      <td>1969-05-17 21:00:00</td>\n",
              "      <td>500</td>\n",
              "    </tr>\n",
              "    <tr>\n",
              "      <th>1</th>\n",
              "      <td>1969-05-17 21:00:00</td>\n",
              "      <td>530</td>\n",
              "    </tr>\n",
              "    <tr>\n",
              "      <th>2</th>\n",
              "      <td>1969-05-17 21:00:00</td>\n",
              "      <td>545</td>\n",
              "    </tr>\n",
              "    <tr>\n",
              "      <th>3</th>\n",
              "      <td>1969-05-17 22:00:00</td>\n",
              "      <td>750</td>\n",
              "    </tr>\n",
              "  </tbody>\n",
              "</table>\n",
              "</div>"
            ],
            "text/plain": [
              "             date_time  traffic_volume\n",
              "0  1969-05-17 21:00:00             500\n",
              "1  1969-05-17 21:00:00             530\n",
              "2  1969-05-17 21:00:00             545\n",
              "3  1969-05-17 22:00:00             750"
            ]
          },
          "metadata": {
            "tags": []
          },
          "execution_count": 128
        }
      ]
    },
    {
      "cell_type": "code",
      "metadata": {
        "id": "FOpEitF6BL41",
        "colab_type": "code",
        "colab": {}
      },
      "source": [
        "sub=pd.DataFrame({'date_time':dfte.iloc[:,0].values,'traffic_volume':te_pr.ravel()})"
      ],
      "execution_count": 0,
      "outputs": []
    },
    {
      "cell_type": "code",
      "metadata": {
        "id": "vSAawvTpBlhm",
        "colab_type": "code",
        "colab": {
          "base_uri": "https://localhost:8080/",
          "height": 68
        },
        "outputId": "049f5d59-ccf7-4d7d-d800-e90be60766a0"
      },
      "source": [
        "dfte.iloc[:,0].values"
      ],
      "execution_count": 131,
      "outputs": [
        {
          "output_type": "execute_result",
          "data": {
            "text/plain": [
              "array(['2017-05-18 00:00:00', '2017-05-18 00:00:00',\n",
              "       '2017-05-18 00:00:00', ..., '2018-09-30 21:00:00',\n",
              "       '2018-09-30 22:00:00', '2018-09-30 23:00:00'], dtype=object)"
            ]
          },
          "metadata": {
            "tags": []
          },
          "execution_count": 131
        }
      ]
    },
    {
      "cell_type": "code",
      "metadata": {
        "id": "2bZ6mIhhBnYS",
        "colab_type": "code",
        "colab": {}
      },
      "source": [
        ""
      ],
      "execution_count": 0,
      "outputs": []
    },
    {
      "cell_type": "code",
      "metadata": {
        "id": "cyED-zyzB3UX",
        "colab_type": "code",
        "colab": {
          "base_uri": "https://localhost:8080/",
          "height": 34
        },
        "outputId": "a7c9efcc-b3fb-4b53-fd85-9ccdad82d738"
      },
      "source": [
        "te_pr.ravel().shape"
      ],
      "execution_count": 136,
      "outputs": [
        {
          "output_type": "execute_result",
          "data": {
            "text/plain": [
              "(14454,)"
            ]
          },
          "metadata": {
            "tags": []
          },
          "execution_count": 136
        }
      ]
    },
    {
      "cell_type": "code",
      "metadata": {
        "id": "GAM2BsrwCKQd",
        "colab_type": "code",
        "colab": {
          "base_uri": "https://localhost:8080/",
          "height": 1000
        },
        "outputId": "4949ff75-58c0-40eb-b5cd-ebdc6be575de"
      },
      "source": [
        "sub"
      ],
      "execution_count": 138,
      "outputs": [
        {
          "output_type": "execute_result",
          "data": {
            "text/html": [
              "<div>\n",
              "<style scoped>\n",
              "    .dataframe tbody tr th:only-of-type {\n",
              "        vertical-align: middle;\n",
              "    }\n",
              "\n",
              "    .dataframe tbody tr th {\n",
              "        vertical-align: top;\n",
              "    }\n",
              "\n",
              "    .dataframe thead th {\n",
              "        text-align: right;\n",
              "    }\n",
              "</style>\n",
              "<table border=\"1\" class=\"dataframe\">\n",
              "  <thead>\n",
              "    <tr style=\"text-align: right;\">\n",
              "      <th></th>\n",
              "      <th>date_time</th>\n",
              "      <th>traffic_volume</th>\n",
              "    </tr>\n",
              "  </thead>\n",
              "  <tbody>\n",
              "    <tr>\n",
              "      <th>0</th>\n",
              "      <td>2017-05-18 00:00:00</td>\n",
              "      <td>3098.736816</td>\n",
              "    </tr>\n",
              "    <tr>\n",
              "      <th>1</th>\n",
              "      <td>2017-05-18 00:00:00</td>\n",
              "      <td>3027.847656</td>\n",
              "    </tr>\n",
              "    <tr>\n",
              "      <th>2</th>\n",
              "      <td>2017-05-18 00:00:00</td>\n",
              "      <td>3117.130127</td>\n",
              "    </tr>\n",
              "    <tr>\n",
              "      <th>3</th>\n",
              "      <td>2017-05-18 01:00:00</td>\n",
              "      <td>3229.778809</td>\n",
              "    </tr>\n",
              "    <tr>\n",
              "      <th>4</th>\n",
              "      <td>2017-05-18 01:00:00</td>\n",
              "      <td>2957.191895</td>\n",
              "    </tr>\n",
              "    <tr>\n",
              "      <th>5</th>\n",
              "      <td>2017-05-18 02:00:00</td>\n",
              "      <td>3190.632568</td>\n",
              "    </tr>\n",
              "    <tr>\n",
              "      <th>6</th>\n",
              "      <td>2017-05-18 02:00:00</td>\n",
              "      <td>2986.344238</td>\n",
              "    </tr>\n",
              "    <tr>\n",
              "      <th>7</th>\n",
              "      <td>2017-05-18 02:00:00</td>\n",
              "      <td>3152.408203</td>\n",
              "    </tr>\n",
              "    <tr>\n",
              "      <th>8</th>\n",
              "      <td>2017-05-18 03:00:00</td>\n",
              "      <td>3174.878418</td>\n",
              "    </tr>\n",
              "    <tr>\n",
              "      <th>9</th>\n",
              "      <td>2017-05-18 03:00:00</td>\n",
              "      <td>2979.825439</td>\n",
              "    </tr>\n",
              "    <tr>\n",
              "      <th>10</th>\n",
              "      <td>2017-05-18 03:00:00</td>\n",
              "      <td>3253.192627</td>\n",
              "    </tr>\n",
              "    <tr>\n",
              "      <th>11</th>\n",
              "      <td>2017-05-18 04:00:00</td>\n",
              "      <td>3223.871582</td>\n",
              "    </tr>\n",
              "    <tr>\n",
              "      <th>12</th>\n",
              "      <td>2017-05-18 04:00:00</td>\n",
              "      <td>3043.025635</td>\n",
              "    </tr>\n",
              "    <tr>\n",
              "      <th>13</th>\n",
              "      <td>2017-05-18 04:00:00</td>\n",
              "      <td>3274.485352</td>\n",
              "    </tr>\n",
              "    <tr>\n",
              "      <th>14</th>\n",
              "      <td>2017-05-18 05:00:00</td>\n",
              "      <td>3187.256348</td>\n",
              "    </tr>\n",
              "    <tr>\n",
              "      <th>15</th>\n",
              "      <td>2017-05-18 05:00:00</td>\n",
              "      <td>3028.446289</td>\n",
              "    </tr>\n",
              "    <tr>\n",
              "      <th>16</th>\n",
              "      <td>2017-05-18 05:00:00</td>\n",
              "      <td>3208.639648</td>\n",
              "    </tr>\n",
              "    <tr>\n",
              "      <th>17</th>\n",
              "      <td>2017-05-18 06:00:00</td>\n",
              "      <td>3182.922119</td>\n",
              "    </tr>\n",
              "    <tr>\n",
              "      <th>18</th>\n",
              "      <td>2017-05-18 06:00:00</td>\n",
              "      <td>3182.040771</td>\n",
              "    </tr>\n",
              "    <tr>\n",
              "      <th>19</th>\n",
              "      <td>2017-05-18 07:00:00</td>\n",
              "      <td>3223.111816</td>\n",
              "    </tr>\n",
              "    <tr>\n",
              "      <th>20</th>\n",
              "      <td>2017-05-18 07:00:00</td>\n",
              "      <td>3211.961670</td>\n",
              "    </tr>\n",
              "    <tr>\n",
              "      <th>21</th>\n",
              "      <td>2017-05-18 08:00:00</td>\n",
              "      <td>3205.162109</td>\n",
              "    </tr>\n",
              "    <tr>\n",
              "      <th>22</th>\n",
              "      <td>2017-05-18 08:00:00</td>\n",
              "      <td>3323.856201</td>\n",
              "    </tr>\n",
              "    <tr>\n",
              "      <th>23</th>\n",
              "      <td>2017-05-18 08:00:00</td>\n",
              "      <td>3141.927002</td>\n",
              "    </tr>\n",
              "    <tr>\n",
              "      <th>24</th>\n",
              "      <td>2017-05-18 09:00:00</td>\n",
              "      <td>3418.689209</td>\n",
              "    </tr>\n",
              "    <tr>\n",
              "      <th>25</th>\n",
              "      <td>2017-05-18 09:00:00</td>\n",
              "      <td>3148.402588</td>\n",
              "    </tr>\n",
              "    <tr>\n",
              "      <th>26</th>\n",
              "      <td>2017-05-18 09:00:00</td>\n",
              "      <td>3259.733398</td>\n",
              "    </tr>\n",
              "    <tr>\n",
              "      <th>27</th>\n",
              "      <td>2017-05-18 10:00:00</td>\n",
              "      <td>3321.187744</td>\n",
              "    </tr>\n",
              "    <tr>\n",
              "      <th>28</th>\n",
              "      <td>2017-05-18 10:00:00</td>\n",
              "      <td>3250.205566</td>\n",
              "    </tr>\n",
              "    <tr>\n",
              "      <th>29</th>\n",
              "      <td>2017-05-18 11:00:00</td>\n",
              "      <td>3416.969727</td>\n",
              "    </tr>\n",
              "    <tr>\n",
              "      <th>...</th>\n",
              "      <td>...</td>\n",
              "      <td>...</td>\n",
              "    </tr>\n",
              "    <tr>\n",
              "      <th>14424</th>\n",
              "      <td>2018-09-29 20:00:00</td>\n",
              "      <td>3515.795410</td>\n",
              "    </tr>\n",
              "    <tr>\n",
              "      <th>14425</th>\n",
              "      <td>2018-09-29 21:00:00</td>\n",
              "      <td>3462.375977</td>\n",
              "    </tr>\n",
              "    <tr>\n",
              "      <th>14426</th>\n",
              "      <td>2018-09-29 22:00:00</td>\n",
              "      <td>3529.121826</td>\n",
              "    </tr>\n",
              "    <tr>\n",
              "      <th>14427</th>\n",
              "      <td>2018-09-29 23:00:00</td>\n",
              "      <td>3361.759033</td>\n",
              "    </tr>\n",
              "    <tr>\n",
              "      <th>14428</th>\n",
              "      <td>2018-09-30 00:00:00</td>\n",
              "      <td>3416.617920</td>\n",
              "    </tr>\n",
              "    <tr>\n",
              "      <th>14429</th>\n",
              "      <td>2018-09-30 01:00:00</td>\n",
              "      <td>3473.472168</td>\n",
              "    </tr>\n",
              "    <tr>\n",
              "      <th>14430</th>\n",
              "      <td>2018-09-30 02:00:00</td>\n",
              "      <td>3490.598633</td>\n",
              "    </tr>\n",
              "    <tr>\n",
              "      <th>14431</th>\n",
              "      <td>2018-09-30 03:00:00</td>\n",
              "      <td>3270.134766</td>\n",
              "    </tr>\n",
              "    <tr>\n",
              "      <th>14432</th>\n",
              "      <td>2018-09-30 04:00:00</td>\n",
              "      <td>3449.077637</td>\n",
              "    </tr>\n",
              "    <tr>\n",
              "      <th>14433</th>\n",
              "      <td>2018-09-30 05:00:00</td>\n",
              "      <td>3346.396729</td>\n",
              "    </tr>\n",
              "    <tr>\n",
              "      <th>14434</th>\n",
              "      <td>2018-09-30 06:00:00</td>\n",
              "      <td>3488.950684</td>\n",
              "    </tr>\n",
              "    <tr>\n",
              "      <th>14435</th>\n",
              "      <td>2018-09-30 07:00:00</td>\n",
              "      <td>3513.848877</td>\n",
              "    </tr>\n",
              "    <tr>\n",
              "      <th>14436</th>\n",
              "      <td>2018-09-30 08:00:00</td>\n",
              "      <td>3190.316895</td>\n",
              "    </tr>\n",
              "    <tr>\n",
              "      <th>14437</th>\n",
              "      <td>2018-09-30 09:00:00</td>\n",
              "      <td>3432.576172</td>\n",
              "    </tr>\n",
              "    <tr>\n",
              "      <th>14438</th>\n",
              "      <td>2018-09-30 10:00:00</td>\n",
              "      <td>3355.864258</td>\n",
              "    </tr>\n",
              "    <tr>\n",
              "      <th>14439</th>\n",
              "      <td>2018-09-30 11:00:00</td>\n",
              "      <td>3359.705078</td>\n",
              "    </tr>\n",
              "    <tr>\n",
              "      <th>14440</th>\n",
              "      <td>2018-09-30 12:00:00</td>\n",
              "      <td>3454.653076</td>\n",
              "    </tr>\n",
              "    <tr>\n",
              "      <th>14441</th>\n",
              "      <td>2018-09-30 13:00:00</td>\n",
              "      <td>3156.921387</td>\n",
              "    </tr>\n",
              "    <tr>\n",
              "      <th>14442</th>\n",
              "      <td>2018-09-30 14:00:00</td>\n",
              "      <td>3362.569336</td>\n",
              "    </tr>\n",
              "    <tr>\n",
              "      <th>14443</th>\n",
              "      <td>2018-09-30 14:00:00</td>\n",
              "      <td>3375.026611</td>\n",
              "    </tr>\n",
              "    <tr>\n",
              "      <th>14444</th>\n",
              "      <td>2018-09-30 15:00:00</td>\n",
              "      <td>3400.136719</td>\n",
              "    </tr>\n",
              "    <tr>\n",
              "      <th>14445</th>\n",
              "      <td>2018-09-30 15:00:00</td>\n",
              "      <td>3239.174805</td>\n",
              "    </tr>\n",
              "    <tr>\n",
              "      <th>14446</th>\n",
              "      <td>2018-09-30 16:00:00</td>\n",
              "      <td>3440.122803</td>\n",
              "    </tr>\n",
              "    <tr>\n",
              "      <th>14447</th>\n",
              "      <td>2018-09-30 17:00:00</td>\n",
              "      <td>3388.975830</td>\n",
              "    </tr>\n",
              "    <tr>\n",
              "      <th>14448</th>\n",
              "      <td>2018-09-30 18:00:00</td>\n",
              "      <td>3335.336182</td>\n",
              "    </tr>\n",
              "    <tr>\n",
              "      <th>14449</th>\n",
              "      <td>2018-09-30 19:00:00</td>\n",
              "      <td>3343.170654</td>\n",
              "    </tr>\n",
              "    <tr>\n",
              "      <th>14450</th>\n",
              "      <td>2018-09-30 20:00:00</td>\n",
              "      <td>3583.327637</td>\n",
              "    </tr>\n",
              "    <tr>\n",
              "      <th>14451</th>\n",
              "      <td>2018-09-30 21:00:00</td>\n",
              "      <td>3193.797607</td>\n",
              "    </tr>\n",
              "    <tr>\n",
              "      <th>14452</th>\n",
              "      <td>2018-09-30 22:00:00</td>\n",
              "      <td>3576.015625</td>\n",
              "    </tr>\n",
              "    <tr>\n",
              "      <th>14453</th>\n",
              "      <td>2018-09-30 23:00:00</td>\n",
              "      <td>3562.980225</td>\n",
              "    </tr>\n",
              "  </tbody>\n",
              "</table>\n",
              "<p>14454 rows × 2 columns</p>\n",
              "</div>"
            ],
            "text/plain": [
              "                 date_time  traffic_volume\n",
              "0      2017-05-18 00:00:00     3098.736816\n",
              "1      2017-05-18 00:00:00     3027.847656\n",
              "2      2017-05-18 00:00:00     3117.130127\n",
              "3      2017-05-18 01:00:00     3229.778809\n",
              "4      2017-05-18 01:00:00     2957.191895\n",
              "5      2017-05-18 02:00:00     3190.632568\n",
              "6      2017-05-18 02:00:00     2986.344238\n",
              "7      2017-05-18 02:00:00     3152.408203\n",
              "8      2017-05-18 03:00:00     3174.878418\n",
              "9      2017-05-18 03:00:00     2979.825439\n",
              "10     2017-05-18 03:00:00     3253.192627\n",
              "11     2017-05-18 04:00:00     3223.871582\n",
              "12     2017-05-18 04:00:00     3043.025635\n",
              "13     2017-05-18 04:00:00     3274.485352\n",
              "14     2017-05-18 05:00:00     3187.256348\n",
              "15     2017-05-18 05:00:00     3028.446289\n",
              "16     2017-05-18 05:00:00     3208.639648\n",
              "17     2017-05-18 06:00:00     3182.922119\n",
              "18     2017-05-18 06:00:00     3182.040771\n",
              "19     2017-05-18 07:00:00     3223.111816\n",
              "20     2017-05-18 07:00:00     3211.961670\n",
              "21     2017-05-18 08:00:00     3205.162109\n",
              "22     2017-05-18 08:00:00     3323.856201\n",
              "23     2017-05-18 08:00:00     3141.927002\n",
              "24     2017-05-18 09:00:00     3418.689209\n",
              "25     2017-05-18 09:00:00     3148.402588\n",
              "26     2017-05-18 09:00:00     3259.733398\n",
              "27     2017-05-18 10:00:00     3321.187744\n",
              "28     2017-05-18 10:00:00     3250.205566\n",
              "29     2017-05-18 11:00:00     3416.969727\n",
              "...                    ...             ...\n",
              "14424  2018-09-29 20:00:00     3515.795410\n",
              "14425  2018-09-29 21:00:00     3462.375977\n",
              "14426  2018-09-29 22:00:00     3529.121826\n",
              "14427  2018-09-29 23:00:00     3361.759033\n",
              "14428  2018-09-30 00:00:00     3416.617920\n",
              "14429  2018-09-30 01:00:00     3473.472168\n",
              "14430  2018-09-30 02:00:00     3490.598633\n",
              "14431  2018-09-30 03:00:00     3270.134766\n",
              "14432  2018-09-30 04:00:00     3449.077637\n",
              "14433  2018-09-30 05:00:00     3346.396729\n",
              "14434  2018-09-30 06:00:00     3488.950684\n",
              "14435  2018-09-30 07:00:00     3513.848877\n",
              "14436  2018-09-30 08:00:00     3190.316895\n",
              "14437  2018-09-30 09:00:00     3432.576172\n",
              "14438  2018-09-30 10:00:00     3355.864258\n",
              "14439  2018-09-30 11:00:00     3359.705078\n",
              "14440  2018-09-30 12:00:00     3454.653076\n",
              "14441  2018-09-30 13:00:00     3156.921387\n",
              "14442  2018-09-30 14:00:00     3362.569336\n",
              "14443  2018-09-30 14:00:00     3375.026611\n",
              "14444  2018-09-30 15:00:00     3400.136719\n",
              "14445  2018-09-30 15:00:00     3239.174805\n",
              "14446  2018-09-30 16:00:00     3440.122803\n",
              "14447  2018-09-30 17:00:00     3388.975830\n",
              "14448  2018-09-30 18:00:00     3335.336182\n",
              "14449  2018-09-30 19:00:00     3343.170654\n",
              "14450  2018-09-30 20:00:00     3583.327637\n",
              "14451  2018-09-30 21:00:00     3193.797607\n",
              "14452  2018-09-30 22:00:00     3576.015625\n",
              "14453  2018-09-30 23:00:00     3562.980225\n",
              "\n",
              "[14454 rows x 2 columns]"
            ]
          },
          "metadata": {
            "tags": []
          },
          "execution_count": 138
        }
      ]
    },
    {
      "cell_type": "code",
      "metadata": {
        "id": "m4GYur-gB4gz",
        "colab_type": "code",
        "colab": {
          "base_uri": "https://localhost:8080/",
          "height": 173
        },
        "outputId": "50f734ac-1d7a-4297-eca5-98cec8f465ed"
      },
      "source": [
        "dfss"
      ],
      "execution_count": 141,
      "outputs": [
        {
          "output_type": "execute_result",
          "data": {
            "text/html": [
              "<div>\n",
              "<style scoped>\n",
              "    .dataframe tbody tr th:only-of-type {\n",
              "        vertical-align: middle;\n",
              "    }\n",
              "\n",
              "    .dataframe tbody tr th {\n",
              "        vertical-align: top;\n",
              "    }\n",
              "\n",
              "    .dataframe thead th {\n",
              "        text-align: right;\n",
              "    }\n",
              "</style>\n",
              "<table border=\"1\" class=\"dataframe\">\n",
              "  <thead>\n",
              "    <tr style=\"text-align: right;\">\n",
              "      <th></th>\n",
              "      <th>date_time</th>\n",
              "      <th>traffic_volume</th>\n",
              "    </tr>\n",
              "  </thead>\n",
              "  <tbody>\n",
              "    <tr>\n",
              "      <th>0</th>\n",
              "      <td>1969-05-17 21:00:00</td>\n",
              "      <td>500</td>\n",
              "    </tr>\n",
              "    <tr>\n",
              "      <th>1</th>\n",
              "      <td>1969-05-17 21:00:00</td>\n",
              "      <td>530</td>\n",
              "    </tr>\n",
              "    <tr>\n",
              "      <th>2</th>\n",
              "      <td>1969-05-17 21:00:00</td>\n",
              "      <td>545</td>\n",
              "    </tr>\n",
              "    <tr>\n",
              "      <th>3</th>\n",
              "      <td>1969-05-17 22:00:00</td>\n",
              "      <td>750</td>\n",
              "    </tr>\n",
              "  </tbody>\n",
              "</table>\n",
              "</div>"
            ],
            "text/plain": [
              "             date_time  traffic_volume\n",
              "0  1969-05-17 21:00:00             500\n",
              "1  1969-05-17 21:00:00             530\n",
              "2  1969-05-17 21:00:00             545\n",
              "3  1969-05-17 22:00:00             750"
            ]
          },
          "metadata": {
            "tags": []
          },
          "execution_count": 141
        }
      ]
    },
    {
      "cell_type": "code",
      "metadata": {
        "id": "Twx8_tFMCN_J",
        "colab_type": "code",
        "colab": {
          "base_uri": "https://localhost:8080/",
          "height": 34
        },
        "outputId": "82271b94-f058-4909-d039-4bd9716b4323"
      },
      "source": [
        "dfte.shape"
      ],
      "execution_count": 142,
      "outputs": [
        {
          "output_type": "execute_result",
          "data": {
            "text/plain": [
              "(14454, 14)"
            ]
          },
          "metadata": {
            "tags": []
          },
          "execution_count": 142
        }
      ]
    },
    {
      "cell_type": "code",
      "metadata": {
        "id": "bQLECm_6CW-L",
        "colab_type": "code",
        "colab": {}
      },
      "source": [
        "sub.to_csv('sub1.csv',index=False)"
      ],
      "execution_count": 0,
      "outputs": []
    },
    {
      "cell_type": "code",
      "metadata": {
        "id": "QSSgAm-HCgHO",
        "colab_type": "code",
        "colab": {
          "base_uri": "https://localhost:8080/",
          "height": 1000
        },
        "outputId": "cf56a55d-d9e7-4b13-d272-0c80e3f09a1b"
      },
      "source": [
        "pd.read_csv('sub1.csv')"
      ],
      "execution_count": 144,
      "outputs": [
        {
          "output_type": "execute_result",
          "data": {
            "text/html": [
              "<div>\n",
              "<style scoped>\n",
              "    .dataframe tbody tr th:only-of-type {\n",
              "        vertical-align: middle;\n",
              "    }\n",
              "\n",
              "    .dataframe tbody tr th {\n",
              "        vertical-align: top;\n",
              "    }\n",
              "\n",
              "    .dataframe thead th {\n",
              "        text-align: right;\n",
              "    }\n",
              "</style>\n",
              "<table border=\"1\" class=\"dataframe\">\n",
              "  <thead>\n",
              "    <tr style=\"text-align: right;\">\n",
              "      <th></th>\n",
              "      <th>date_time</th>\n",
              "      <th>traffic_volume</th>\n",
              "    </tr>\n",
              "  </thead>\n",
              "  <tbody>\n",
              "    <tr>\n",
              "      <th>0</th>\n",
              "      <td>2017-05-18 00:00:00</td>\n",
              "      <td>3098.7368</td>\n",
              "    </tr>\n",
              "    <tr>\n",
              "      <th>1</th>\n",
              "      <td>2017-05-18 00:00:00</td>\n",
              "      <td>3027.8477</td>\n",
              "    </tr>\n",
              "    <tr>\n",
              "      <th>2</th>\n",
              "      <td>2017-05-18 00:00:00</td>\n",
              "      <td>3117.1301</td>\n",
              "    </tr>\n",
              "    <tr>\n",
              "      <th>3</th>\n",
              "      <td>2017-05-18 01:00:00</td>\n",
              "      <td>3229.7788</td>\n",
              "    </tr>\n",
              "    <tr>\n",
              "      <th>4</th>\n",
              "      <td>2017-05-18 01:00:00</td>\n",
              "      <td>2957.1920</td>\n",
              "    </tr>\n",
              "    <tr>\n",
              "      <th>5</th>\n",
              "      <td>2017-05-18 02:00:00</td>\n",
              "      <td>3190.6326</td>\n",
              "    </tr>\n",
              "    <tr>\n",
              "      <th>6</th>\n",
              "      <td>2017-05-18 02:00:00</td>\n",
              "      <td>2986.3442</td>\n",
              "    </tr>\n",
              "    <tr>\n",
              "      <th>7</th>\n",
              "      <td>2017-05-18 02:00:00</td>\n",
              "      <td>3152.4082</td>\n",
              "    </tr>\n",
              "    <tr>\n",
              "      <th>8</th>\n",
              "      <td>2017-05-18 03:00:00</td>\n",
              "      <td>3174.8784</td>\n",
              "    </tr>\n",
              "    <tr>\n",
              "      <th>9</th>\n",
              "      <td>2017-05-18 03:00:00</td>\n",
              "      <td>2979.8254</td>\n",
              "    </tr>\n",
              "    <tr>\n",
              "      <th>10</th>\n",
              "      <td>2017-05-18 03:00:00</td>\n",
              "      <td>3253.1926</td>\n",
              "    </tr>\n",
              "    <tr>\n",
              "      <th>11</th>\n",
              "      <td>2017-05-18 04:00:00</td>\n",
              "      <td>3223.8716</td>\n",
              "    </tr>\n",
              "    <tr>\n",
              "      <th>12</th>\n",
              "      <td>2017-05-18 04:00:00</td>\n",
              "      <td>3043.0256</td>\n",
              "    </tr>\n",
              "    <tr>\n",
              "      <th>13</th>\n",
              "      <td>2017-05-18 04:00:00</td>\n",
              "      <td>3274.4854</td>\n",
              "    </tr>\n",
              "    <tr>\n",
              "      <th>14</th>\n",
              "      <td>2017-05-18 05:00:00</td>\n",
              "      <td>3187.2563</td>\n",
              "    </tr>\n",
              "    <tr>\n",
              "      <th>15</th>\n",
              "      <td>2017-05-18 05:00:00</td>\n",
              "      <td>3028.4463</td>\n",
              "    </tr>\n",
              "    <tr>\n",
              "      <th>16</th>\n",
              "      <td>2017-05-18 05:00:00</td>\n",
              "      <td>3208.6396</td>\n",
              "    </tr>\n",
              "    <tr>\n",
              "      <th>17</th>\n",
              "      <td>2017-05-18 06:00:00</td>\n",
              "      <td>3182.9220</td>\n",
              "    </tr>\n",
              "    <tr>\n",
              "      <th>18</th>\n",
              "      <td>2017-05-18 06:00:00</td>\n",
              "      <td>3182.0408</td>\n",
              "    </tr>\n",
              "    <tr>\n",
              "      <th>19</th>\n",
              "      <td>2017-05-18 07:00:00</td>\n",
              "      <td>3223.1118</td>\n",
              "    </tr>\n",
              "    <tr>\n",
              "      <th>20</th>\n",
              "      <td>2017-05-18 07:00:00</td>\n",
              "      <td>3211.9617</td>\n",
              "    </tr>\n",
              "    <tr>\n",
              "      <th>21</th>\n",
              "      <td>2017-05-18 08:00:00</td>\n",
              "      <td>3205.1620</td>\n",
              "    </tr>\n",
              "    <tr>\n",
              "      <th>22</th>\n",
              "      <td>2017-05-18 08:00:00</td>\n",
              "      <td>3323.8562</td>\n",
              "    </tr>\n",
              "    <tr>\n",
              "      <th>23</th>\n",
              "      <td>2017-05-18 08:00:00</td>\n",
              "      <td>3141.9270</td>\n",
              "    </tr>\n",
              "    <tr>\n",
              "      <th>24</th>\n",
              "      <td>2017-05-18 09:00:00</td>\n",
              "      <td>3418.6892</td>\n",
              "    </tr>\n",
              "    <tr>\n",
              "      <th>25</th>\n",
              "      <td>2017-05-18 09:00:00</td>\n",
              "      <td>3148.4026</td>\n",
              "    </tr>\n",
              "    <tr>\n",
              "      <th>26</th>\n",
              "      <td>2017-05-18 09:00:00</td>\n",
              "      <td>3259.7334</td>\n",
              "    </tr>\n",
              "    <tr>\n",
              "      <th>27</th>\n",
              "      <td>2017-05-18 10:00:00</td>\n",
              "      <td>3321.1877</td>\n",
              "    </tr>\n",
              "    <tr>\n",
              "      <th>28</th>\n",
              "      <td>2017-05-18 10:00:00</td>\n",
              "      <td>3250.2056</td>\n",
              "    </tr>\n",
              "    <tr>\n",
              "      <th>29</th>\n",
              "      <td>2017-05-18 11:00:00</td>\n",
              "      <td>3416.9697</td>\n",
              "    </tr>\n",
              "    <tr>\n",
              "      <th>...</th>\n",
              "      <td>...</td>\n",
              "      <td>...</td>\n",
              "    </tr>\n",
              "    <tr>\n",
              "      <th>14424</th>\n",
              "      <td>2018-09-29 20:00:00</td>\n",
              "      <td>3515.7954</td>\n",
              "    </tr>\n",
              "    <tr>\n",
              "      <th>14425</th>\n",
              "      <td>2018-09-29 21:00:00</td>\n",
              "      <td>3462.3760</td>\n",
              "    </tr>\n",
              "    <tr>\n",
              "      <th>14426</th>\n",
              "      <td>2018-09-29 22:00:00</td>\n",
              "      <td>3529.1218</td>\n",
              "    </tr>\n",
              "    <tr>\n",
              "      <th>14427</th>\n",
              "      <td>2018-09-29 23:00:00</td>\n",
              "      <td>3361.7590</td>\n",
              "    </tr>\n",
              "    <tr>\n",
              "      <th>14428</th>\n",
              "      <td>2018-09-30 00:00:00</td>\n",
              "      <td>3416.6180</td>\n",
              "    </tr>\n",
              "    <tr>\n",
              "      <th>14429</th>\n",
              "      <td>2018-09-30 01:00:00</td>\n",
              "      <td>3473.4722</td>\n",
              "    </tr>\n",
              "    <tr>\n",
              "      <th>14430</th>\n",
              "      <td>2018-09-30 02:00:00</td>\n",
              "      <td>3490.5986</td>\n",
              "    </tr>\n",
              "    <tr>\n",
              "      <th>14431</th>\n",
              "      <td>2018-09-30 03:00:00</td>\n",
              "      <td>3270.1348</td>\n",
              "    </tr>\n",
              "    <tr>\n",
              "      <th>14432</th>\n",
              "      <td>2018-09-30 04:00:00</td>\n",
              "      <td>3449.0776</td>\n",
              "    </tr>\n",
              "    <tr>\n",
              "      <th>14433</th>\n",
              "      <td>2018-09-30 05:00:00</td>\n",
              "      <td>3346.3967</td>\n",
              "    </tr>\n",
              "    <tr>\n",
              "      <th>14434</th>\n",
              "      <td>2018-09-30 06:00:00</td>\n",
              "      <td>3488.9507</td>\n",
              "    </tr>\n",
              "    <tr>\n",
              "      <th>14435</th>\n",
              "      <td>2018-09-30 07:00:00</td>\n",
              "      <td>3513.8489</td>\n",
              "    </tr>\n",
              "    <tr>\n",
              "      <th>14436</th>\n",
              "      <td>2018-09-30 08:00:00</td>\n",
              "      <td>3190.3170</td>\n",
              "    </tr>\n",
              "    <tr>\n",
              "      <th>14437</th>\n",
              "      <td>2018-09-30 09:00:00</td>\n",
              "      <td>3432.5762</td>\n",
              "    </tr>\n",
              "    <tr>\n",
              "      <th>14438</th>\n",
              "      <td>2018-09-30 10:00:00</td>\n",
              "      <td>3355.8643</td>\n",
              "    </tr>\n",
              "    <tr>\n",
              "      <th>14439</th>\n",
              "      <td>2018-09-30 11:00:00</td>\n",
              "      <td>3359.7050</td>\n",
              "    </tr>\n",
              "    <tr>\n",
              "      <th>14440</th>\n",
              "      <td>2018-09-30 12:00:00</td>\n",
              "      <td>3454.6530</td>\n",
              "    </tr>\n",
              "    <tr>\n",
              "      <th>14441</th>\n",
              "      <td>2018-09-30 13:00:00</td>\n",
              "      <td>3156.9214</td>\n",
              "    </tr>\n",
              "    <tr>\n",
              "      <th>14442</th>\n",
              "      <td>2018-09-30 14:00:00</td>\n",
              "      <td>3362.5693</td>\n",
              "    </tr>\n",
              "    <tr>\n",
              "      <th>14443</th>\n",
              "      <td>2018-09-30 14:00:00</td>\n",
              "      <td>3375.0266</td>\n",
              "    </tr>\n",
              "    <tr>\n",
              "      <th>14444</th>\n",
              "      <td>2018-09-30 15:00:00</td>\n",
              "      <td>3400.1367</td>\n",
              "    </tr>\n",
              "    <tr>\n",
              "      <th>14445</th>\n",
              "      <td>2018-09-30 15:00:00</td>\n",
              "      <td>3239.1748</td>\n",
              "    </tr>\n",
              "    <tr>\n",
              "      <th>14446</th>\n",
              "      <td>2018-09-30 16:00:00</td>\n",
              "      <td>3440.1228</td>\n",
              "    </tr>\n",
              "    <tr>\n",
              "      <th>14447</th>\n",
              "      <td>2018-09-30 17:00:00</td>\n",
              "      <td>3388.9758</td>\n",
              "    </tr>\n",
              "    <tr>\n",
              "      <th>14448</th>\n",
              "      <td>2018-09-30 18:00:00</td>\n",
              "      <td>3335.3362</td>\n",
              "    </tr>\n",
              "    <tr>\n",
              "      <th>14449</th>\n",
              "      <td>2018-09-30 19:00:00</td>\n",
              "      <td>3343.1707</td>\n",
              "    </tr>\n",
              "    <tr>\n",
              "      <th>14450</th>\n",
              "      <td>2018-09-30 20:00:00</td>\n",
              "      <td>3583.3276</td>\n",
              "    </tr>\n",
              "    <tr>\n",
              "      <th>14451</th>\n",
              "      <td>2018-09-30 21:00:00</td>\n",
              "      <td>3193.7976</td>\n",
              "    </tr>\n",
              "    <tr>\n",
              "      <th>14452</th>\n",
              "      <td>2018-09-30 22:00:00</td>\n",
              "      <td>3576.0156</td>\n",
              "    </tr>\n",
              "    <tr>\n",
              "      <th>14453</th>\n",
              "      <td>2018-09-30 23:00:00</td>\n",
              "      <td>3562.9802</td>\n",
              "    </tr>\n",
              "  </tbody>\n",
              "</table>\n",
              "<p>14454 rows × 2 columns</p>\n",
              "</div>"
            ],
            "text/plain": [
              "                 date_time  traffic_volume\n",
              "0      2017-05-18 00:00:00       3098.7368\n",
              "1      2017-05-18 00:00:00       3027.8477\n",
              "2      2017-05-18 00:00:00       3117.1301\n",
              "3      2017-05-18 01:00:00       3229.7788\n",
              "4      2017-05-18 01:00:00       2957.1920\n",
              "5      2017-05-18 02:00:00       3190.6326\n",
              "6      2017-05-18 02:00:00       2986.3442\n",
              "7      2017-05-18 02:00:00       3152.4082\n",
              "8      2017-05-18 03:00:00       3174.8784\n",
              "9      2017-05-18 03:00:00       2979.8254\n",
              "10     2017-05-18 03:00:00       3253.1926\n",
              "11     2017-05-18 04:00:00       3223.8716\n",
              "12     2017-05-18 04:00:00       3043.0256\n",
              "13     2017-05-18 04:00:00       3274.4854\n",
              "14     2017-05-18 05:00:00       3187.2563\n",
              "15     2017-05-18 05:00:00       3028.4463\n",
              "16     2017-05-18 05:00:00       3208.6396\n",
              "17     2017-05-18 06:00:00       3182.9220\n",
              "18     2017-05-18 06:00:00       3182.0408\n",
              "19     2017-05-18 07:00:00       3223.1118\n",
              "20     2017-05-18 07:00:00       3211.9617\n",
              "21     2017-05-18 08:00:00       3205.1620\n",
              "22     2017-05-18 08:00:00       3323.8562\n",
              "23     2017-05-18 08:00:00       3141.9270\n",
              "24     2017-05-18 09:00:00       3418.6892\n",
              "25     2017-05-18 09:00:00       3148.4026\n",
              "26     2017-05-18 09:00:00       3259.7334\n",
              "27     2017-05-18 10:00:00       3321.1877\n",
              "28     2017-05-18 10:00:00       3250.2056\n",
              "29     2017-05-18 11:00:00       3416.9697\n",
              "...                    ...             ...\n",
              "14424  2018-09-29 20:00:00       3515.7954\n",
              "14425  2018-09-29 21:00:00       3462.3760\n",
              "14426  2018-09-29 22:00:00       3529.1218\n",
              "14427  2018-09-29 23:00:00       3361.7590\n",
              "14428  2018-09-30 00:00:00       3416.6180\n",
              "14429  2018-09-30 01:00:00       3473.4722\n",
              "14430  2018-09-30 02:00:00       3490.5986\n",
              "14431  2018-09-30 03:00:00       3270.1348\n",
              "14432  2018-09-30 04:00:00       3449.0776\n",
              "14433  2018-09-30 05:00:00       3346.3967\n",
              "14434  2018-09-30 06:00:00       3488.9507\n",
              "14435  2018-09-30 07:00:00       3513.8489\n",
              "14436  2018-09-30 08:00:00       3190.3170\n",
              "14437  2018-09-30 09:00:00       3432.5762\n",
              "14438  2018-09-30 10:00:00       3355.8643\n",
              "14439  2018-09-30 11:00:00       3359.7050\n",
              "14440  2018-09-30 12:00:00       3454.6530\n",
              "14441  2018-09-30 13:00:00       3156.9214\n",
              "14442  2018-09-30 14:00:00       3362.5693\n",
              "14443  2018-09-30 14:00:00       3375.0266\n",
              "14444  2018-09-30 15:00:00       3400.1367\n",
              "14445  2018-09-30 15:00:00       3239.1748\n",
              "14446  2018-09-30 16:00:00       3440.1228\n",
              "14447  2018-09-30 17:00:00       3388.9758\n",
              "14448  2018-09-30 18:00:00       3335.3362\n",
              "14449  2018-09-30 19:00:00       3343.1707\n",
              "14450  2018-09-30 20:00:00       3583.3276\n",
              "14451  2018-09-30 21:00:00       3193.7976\n",
              "14452  2018-09-30 22:00:00       3576.0156\n",
              "14453  2018-09-30 23:00:00       3562.9802\n",
              "\n",
              "[14454 rows x 2 columns]"
            ]
          },
          "metadata": {
            "tags": []
          },
          "execution_count": 144
        }
      ]
    },
    {
      "cell_type": "code",
      "metadata": {
        "id": "hBhF6xNkClzq",
        "colab_type": "code",
        "colab": {}
      },
      "source": [
        ""
      ],
      "execution_count": 0,
      "outputs": []
    }
  ]
}